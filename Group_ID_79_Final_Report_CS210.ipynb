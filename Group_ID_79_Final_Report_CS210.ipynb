{
  "nbformat": 4,
  "nbformat_minor": 0,
  "metadata": {
    "colab": {
      "provenance": [],
      "collapsed_sections": [],
      "toc_visible": true
    },
    "kernelspec": {
      "name": "python3",
      "display_name": "Python 3"
    }
  },
  "cells": [
    {
      "cell_type": "markdown",
      "metadata": {
        "id": "p0KZ9Ew_q6Xa"
      },
      "source": [
        "# New York AIRBNB - DATA EXPLORATION\n",
        "This project comprises of data exploration,hypothesis testing and machine learning on an open data set of New York City Airbnb. We plan to obtain relevant insights from datasets  that will be used to evaluate how the proximity to ***important landmarks/ tourist sights*** affect the listing price and number of listings in each borough.\n",
        "For this purpose we will be using a supplementary dataset listed below:\n",
        "\n",
        "1) https://data.cityofnewyork.us/Housing-Development/Individual-Landmark-Sites/ts56-fkf5\n",
        "\n",
        "The above listed dataset consists of Landmarks in New York and their locations.\n",
        "\n",
        "Methods we have used:\n",
        "\n",
        "1) Data Preprocessing\n",
        "\n",
        "2) Feature Engineering\n",
        "\n",
        "3) Hypothesis Testing\n",
        "\n",
        "4) Machine Learning \n",
        "\n",
        "     *  Decision Tree Classifier\n",
        "     *  Cross validation\n",
        "     *  k-Nearest Neighbour Classifier\n",
        "\n",
        "\n"
      ]
    },
    {
      "cell_type": "markdown",
      "metadata": {
        "id": "8d3IZE5yk_Gg"
      },
      "source": [
        "## **Extracting information from our Primary data set**"
      ]
    },
    {
      "cell_type": "markdown",
      "metadata": {
        "id": "F3uqLrXNlP00"
      },
      "source": [
        "###Mounting Drive to access our files\n",
        "---"
      ]
    },
    {
      "cell_type": "code",
      "metadata": {
        "id": "39Kqbayj2ljD",
        "outputId": "7450f1f8-2add-42cb-ae84-97913d80e714",
        "colab": {
          "base_uri": "https://localhost:8080/",
          "height": 34
        }
      },
      "source": [
        "  \n",
        "from google.colab import drive\n",
        "drive.mount(\"/content/drive\", force_remount=True)\n",
        "\n",
        "path_prefix = \"/content/drive/My Drive\""
      ],
      "execution_count": null,
      "outputs": [
        {
          "output_type": "stream",
          "text": [
            "Mounted at /content/drive\n"
          ],
          "name": "stdout"
        }
      ]
    },
    {
      "cell_type": "markdown",
      "metadata": {
        "id": "ge_6ADTPlYWP"
      },
      "source": [
        "###Importing necessery libraries for future analysis of the dataset\n",
        "---\n"
      ]
    },
    {
      "cell_type": "code",
      "metadata": {
        "id": "73znYG8wzD3e"
      },
      "source": [
        "\n",
        "import numpy as np\n",
        "import pandas as pd\n",
        "import matplotlib.pyplot as plt\n",
        "import matplotlib.image as mpimg\n",
        "%matplotlib inline\n",
        "import seaborn as sns\n",
        "from os.path import join"
      ],
      "execution_count": null,
      "outputs": []
    },
    {
      "cell_type": "markdown",
      "metadata": {
        "id": "HUNG-JL4ldZt"
      },
      "source": [
        "###Opening Primary dataset - NEW YORK AIRBNB\n",
        "---"
      ]
    },
    {
      "cell_type": "code",
      "metadata": {
        "id": "UhrSwJ_E2yLz"
      },
      "source": [
        "fname = \"AB_NYC_2019.csv\"\n",
        "df = pd.read_csv(join(path_prefix, fname))\n",
        "\n"
      ],
      "execution_count": null,
      "outputs": []
    },
    {
      "cell_type": "markdown",
      "metadata": {
        "id": "Ici3d1z5l9Me"
      },
      "source": [
        "###Displaying the first 5 Entries\n",
        "---"
      ]
    },
    {
      "cell_type": "code",
      "metadata": {
        "id": "Afk10YPPmIXk",
        "outputId": "fadd8298-a4eb-42c0-a2f2-26793e7bd209",
        "colab": {
          "base_uri": "https://localhost:8080/",
          "height": 411
        }
      },
      "source": [
        "df.head()"
      ],
      "execution_count": null,
      "outputs": [
        {
          "output_type": "execute_result",
          "data": {
            "text/html": [
              "<div>\n",
              "<style scoped>\n",
              "    .dataframe tbody tr th:only-of-type {\n",
              "        vertical-align: middle;\n",
              "    }\n",
              "\n",
              "    .dataframe tbody tr th {\n",
              "        vertical-align: top;\n",
              "    }\n",
              "\n",
              "    .dataframe thead th {\n",
              "        text-align: right;\n",
              "    }\n",
              "</style>\n",
              "<table border=\"1\" class=\"dataframe\">\n",
              "  <thead>\n",
              "    <tr style=\"text-align: right;\">\n",
              "      <th></th>\n",
              "      <th>id</th>\n",
              "      <th>name</th>\n",
              "      <th>host_id</th>\n",
              "      <th>host_name</th>\n",
              "      <th>neighbourhood_group</th>\n",
              "      <th>neighbourhood</th>\n",
              "      <th>latitude</th>\n",
              "      <th>longitude</th>\n",
              "      <th>room_type</th>\n",
              "      <th>price</th>\n",
              "      <th>minimum_nights</th>\n",
              "      <th>number_of_reviews</th>\n",
              "      <th>last_review</th>\n",
              "      <th>reviews_per_month</th>\n",
              "      <th>calculated_host_listings_count</th>\n",
              "      <th>availability_365</th>\n",
              "    </tr>\n",
              "  </thead>\n",
              "  <tbody>\n",
              "    <tr>\n",
              "      <th>0</th>\n",
              "      <td>2539</td>\n",
              "      <td>Clean &amp; quiet apt home by the park</td>\n",
              "      <td>2787</td>\n",
              "      <td>John</td>\n",
              "      <td>Brooklyn</td>\n",
              "      <td>Kensington</td>\n",
              "      <td>40.64749</td>\n",
              "      <td>-73.97237</td>\n",
              "      <td>Private room</td>\n",
              "      <td>149</td>\n",
              "      <td>1</td>\n",
              "      <td>9</td>\n",
              "      <td>2018-10-19</td>\n",
              "      <td>0.21</td>\n",
              "      <td>6</td>\n",
              "      <td>365</td>\n",
              "    </tr>\n",
              "    <tr>\n",
              "      <th>1</th>\n",
              "      <td>2595</td>\n",
              "      <td>Skylit Midtown Castle</td>\n",
              "      <td>2845</td>\n",
              "      <td>Jennifer</td>\n",
              "      <td>Manhattan</td>\n",
              "      <td>Midtown</td>\n",
              "      <td>40.75362</td>\n",
              "      <td>-73.98377</td>\n",
              "      <td>Entire home/apt</td>\n",
              "      <td>225</td>\n",
              "      <td>1</td>\n",
              "      <td>45</td>\n",
              "      <td>2019-05-21</td>\n",
              "      <td>0.38</td>\n",
              "      <td>2</td>\n",
              "      <td>355</td>\n",
              "    </tr>\n",
              "    <tr>\n",
              "      <th>2</th>\n",
              "      <td>3647</td>\n",
              "      <td>THE VILLAGE OF HARLEM....NEW YORK !</td>\n",
              "      <td>4632</td>\n",
              "      <td>Elisabeth</td>\n",
              "      <td>Manhattan</td>\n",
              "      <td>Harlem</td>\n",
              "      <td>40.80902</td>\n",
              "      <td>-73.94190</td>\n",
              "      <td>Private room</td>\n",
              "      <td>150</td>\n",
              "      <td>3</td>\n",
              "      <td>0</td>\n",
              "      <td>NaN</td>\n",
              "      <td>NaN</td>\n",
              "      <td>1</td>\n",
              "      <td>365</td>\n",
              "    </tr>\n",
              "    <tr>\n",
              "      <th>3</th>\n",
              "      <td>3831</td>\n",
              "      <td>Cozy Entire Floor of Brownstone</td>\n",
              "      <td>4869</td>\n",
              "      <td>LisaRoxanne</td>\n",
              "      <td>Brooklyn</td>\n",
              "      <td>Clinton Hill</td>\n",
              "      <td>40.68514</td>\n",
              "      <td>-73.95976</td>\n",
              "      <td>Entire home/apt</td>\n",
              "      <td>89</td>\n",
              "      <td>1</td>\n",
              "      <td>270</td>\n",
              "      <td>2019-07-05</td>\n",
              "      <td>4.64</td>\n",
              "      <td>1</td>\n",
              "      <td>194</td>\n",
              "    </tr>\n",
              "    <tr>\n",
              "      <th>4</th>\n",
              "      <td>5022</td>\n",
              "      <td>Entire Apt: Spacious Studio/Loft by central park</td>\n",
              "      <td>7192</td>\n",
              "      <td>Laura</td>\n",
              "      <td>Manhattan</td>\n",
              "      <td>East Harlem</td>\n",
              "      <td>40.79851</td>\n",
              "      <td>-73.94399</td>\n",
              "      <td>Entire home/apt</td>\n",
              "      <td>80</td>\n",
              "      <td>10</td>\n",
              "      <td>9</td>\n",
              "      <td>2018-11-19</td>\n",
              "      <td>0.10</td>\n",
              "      <td>1</td>\n",
              "      <td>0</td>\n",
              "    </tr>\n",
              "  </tbody>\n",
              "</table>\n",
              "</div>"
            ],
            "text/plain": [
              "     id  ... availability_365\n",
              "0  2539  ...              365\n",
              "1  2595  ...              355\n",
              "2  3647  ...              365\n",
              "3  3831  ...              194\n",
              "4  5022  ...                0\n",
              "\n",
              "[5 rows x 16 columns]"
            ]
          },
          "metadata": {
            "tags": []
          },
          "execution_count": 286
        }
      ]
    },
    {
      "cell_type": "markdown",
      "metadata": {
        "id": "BkgQ1H6HiLCW"
      },
      "source": [
        "### THE NUMBER OF TOTAL AIRBNB/DATA INFO\n",
        "\n",
        "---"
      ]
    },
    {
      "cell_type": "markdown",
      "metadata": {
        "id": "IHdAXvd1_aFH"
      },
      "source": [
        "This number represents the total number of rows in the data set.Each row represents a unique Airbnb along with its detailed descrption.\n",
        "Hence,in this data set we are dealing with 48895 Airbnbs."
      ]
    },
    {
      "cell_type": "code",
      "metadata": {
        "id": "y4MJWeXUf2hD",
        "outputId": "8946b556-6fef-4b4b-c7c4-3f3430612d3c",
        "colab": {
          "base_uri": "https://localhost:8080/",
          "height": 34
        }
      },
      "source": [
        "df.shape[0]"
      ],
      "execution_count": null,
      "outputs": [
        {
          "output_type": "execute_result",
          "data": {
            "text/plain": [
              "48895"
            ]
          },
          "metadata": {
            "tags": []
          },
          "execution_count": 287
        }
      ]
    },
    {
      "cell_type": "markdown",
      "metadata": {
        "id": "5fSc-esDmjfQ"
      },
      "source": [
        "###Description of data type of each column\n",
        "---"
      ]
    },
    {
      "cell_type": "markdown",
      "metadata": {
        "id": "MZIx7l3d_3PJ"
      },
      "source": [
        "This output summarizes the information provided for each Airbnb including that can be examined in the project later."
      ]
    },
    {
      "cell_type": "code",
      "metadata": {
        "id": "lMtB5mHjioHi",
        "outputId": "4cde7faa-73b6-4920-a75f-7726a022560d",
        "colab": {
          "base_uri": "https://localhost:8080/",
          "height": 306
        }
      },
      "source": [
        "df.dtypes\n"
      ],
      "execution_count": null,
      "outputs": [
        {
          "output_type": "execute_result",
          "data": {
            "text/plain": [
              "id                                  int64\n",
              "name                               object\n",
              "host_id                             int64\n",
              "host_name                          object\n",
              "neighbourhood_group                object\n",
              "neighbourhood                      object\n",
              "latitude                          float64\n",
              "longitude                         float64\n",
              "room_type                          object\n",
              "price                               int64\n",
              "minimum_nights                      int64\n",
              "number_of_reviews                   int64\n",
              "last_review                        object\n",
              "reviews_per_month                 float64\n",
              "calculated_host_listings_count      int64\n",
              "availability_365                    int64\n",
              "dtype: object"
            ]
          },
          "metadata": {
            "tags": []
          },
          "execution_count": 288
        }
      ]
    },
    {
      "cell_type": "markdown",
      "metadata": {
        "id": "8Ke7TkC8BXbj"
      },
      "source": [
        "###Checking NaN Values"
      ]
    },
    {
      "cell_type": "code",
      "metadata": {
        "id": "h5rxKU-YBdVU",
        "outputId": "1b024f36-602c-4b94-f16f-3b4a51c53978",
        "colab": {
          "base_uri": "https://localhost:8080/",
          "height": 306
        }
      },
      "source": [
        "df.isnull().sum() "
      ],
      "execution_count": null,
      "outputs": [
        {
          "output_type": "execute_result",
          "data": {
            "text/plain": [
              "id                                    0\n",
              "name                                 16\n",
              "host_id                               0\n",
              "host_name                            21\n",
              "neighbourhood_group                   0\n",
              "neighbourhood                         0\n",
              "latitude                              0\n",
              "longitude                             0\n",
              "room_type                             0\n",
              "price                                 0\n",
              "minimum_nights                        0\n",
              "number_of_reviews                     0\n",
              "last_review                       10052\n",
              "reviews_per_month                 10052\n",
              "calculated_host_listings_count        0\n",
              "availability_365                      0\n",
              "dtype: int64"
            ]
          },
          "metadata": {
            "tags": []
          },
          "execution_count": 289
        }
      ]
    },
    {
      "cell_type": "markdown",
      "metadata": {
        "id": "Vv5UAQijBjS4"
      },
      "source": [
        "We can see that there are NaN values in name, host_name, last_review and reviews_per_month.\n",
        "But because we are not going to be using any of the above stated columns we do not drop these values."
      ]
    },
    {
      "cell_type": "markdown",
      "metadata": {
        "id": "qNILiV7znS6a"
      },
      "source": [
        "###Grouping Neighnourhoods Distinctly\n",
        "---"
      ]
    },
    {
      "cell_type": "markdown",
      "metadata": {
        "id": "rqtq-8SQAnzG"
      },
      "source": [
        "The following output finds the unique values of the five major boroughs/Neighbourhood groups in NYC.\n"
      ]
    },
    {
      "cell_type": "code",
      "metadata": {
        "id": "DDk35Wikk6F2",
        "outputId": "e5d6b6c2-b14b-4596-d659-088a0f0f412b",
        "colab": {
          "base_uri": "https://localhost:8080/",
          "height": 51
        }
      },
      "source": [
        "Hoods= df.neighbourhood_group.unique()\n",
        "Hoods"
      ],
      "execution_count": null,
      "outputs": [
        {
          "output_type": "execute_result",
          "data": {
            "text/plain": [
              "array(['Brooklyn', 'Manhattan', 'Queens', 'Staten Island', 'Bronx'],\n",
              "      dtype=object)"
            ]
          },
          "metadata": {
            "tags": []
          },
          "execution_count": 290
        }
      ]
    },
    {
      "cell_type": "markdown",
      "metadata": {
        "id": "yCH2o1KLe3vz"
      },
      "source": [
        "####ScatterPlot"
      ]
    },
    {
      "cell_type": "markdown",
      "metadata": {
        "id": "-ps1gCldk7QT"
      },
      "source": [
        "Scatter plot based on unique neighbourhood groups\n"
      ]
    },
    {
      "cell_type": "code",
      "metadata": {
        "id": "FkVY8le5mdWh",
        "outputId": "9eb82892-2b58-4efe-cb3c-b888eae5ad79",
        "colab": {
          "base_uri": "https://localhost:8080/",
          "height": 306
        }
      },
      "source": [
        "sns.set_style(\"darkgrid\")\n",
        "sns.scatterplot(x=\"longitude\", y=\"latitude\", hue=\"neighbourhood_group\", data=df,size_order=10 )"
      ],
      "execution_count": null,
      "outputs": [
        {
          "output_type": "execute_result",
          "data": {
            "text/plain": [
              "<matplotlib.axes._subplots.AxesSubplot at 0x7fb2ff69db38>"
            ]
          },
          "metadata": {
            "tags": []
          },
          "execution_count": 291
        },
        {
          "output_type": "display_data",
          "data": {
            "image/png": "[encoded data removed]",
            "text/plain": [
              "<Figure size 432x288 with 1 Axes>"
            ]
          },
          "metadata": {
            "tags": []
          }
        }
      ]
    },
    {
      "cell_type": "markdown",
      "metadata": {
        "id": "AAK8d3kEosFv"
      },
      "source": [
        "##Extracting price information"
      ]
    },
    {
      "cell_type": "markdown",
      "metadata": {
        "id": "ZixO7_9Bo4Lm"
      },
      "source": [
        "Investingating price with respect to other variables and their relation."
      ]
    },
    {
      "cell_type": "markdown",
      "metadata": {
        "id": "qdnelzvHmIDe"
      },
      "source": [
        "### Seperating all Airbnbs into above stated groups regarding price\n",
        "\n",
        "---\n",
        "\n"
      ]
    },
    {
      "cell_type": "markdown",
      "metadata": {
        "id": "szT8NFaHCyP6"
      },
      "source": [
        "The following code creates lists of prices of all Airbnbs based on the the neighbourhood groups they belong to:\n"
      ]
    },
    {
      "cell_type": "code",
      "metadata": {
        "id": "iiTEWBYHmGBz"
      },
      "source": [
        "BK=[]\n",
        "MN=[]\n",
        "QN=[]\n",
        "SI=[]\n",
        "BR=[]\n",
        "\n",
        "\n",
        "for i in range(df.shape[0]):\n",
        "  if (df.iloc[i,4] == \"Brooklyn\"):\n",
        "      price = df.iloc[i,9]\n",
        "      BK.append(price)\n",
        "  elif(df.iloc[i,4] == \"Manhattan\"):\n",
        "      price = df.iloc[i,9]\n",
        "      MN.append(price)\n",
        "  elif (df.iloc[i,4] == \"Queens\"):\n",
        "      price = df.iloc[i,9]\n",
        "      QN.append(price)\n",
        "  elif (df.iloc[i,4] == \"Staten Island\"):\n",
        "      price = df.iloc[i,9]\n",
        "      SI.append(price)\n",
        "  elif (df.iloc[i,4] == \"Bronx\"):\n",
        "      price = df.iloc[i,9]\n",
        "      BR.append(price)\n",
        "\n",
        "\n"
      ],
      "execution_count": null,
      "outputs": []
    },
    {
      "cell_type": "markdown",
      "metadata": {
        "id": "3JVWQ_zKo2_Y"
      },
      "source": [
        "###Calculating Average of prices per Neighbourhood\n",
        "--- "
      ]
    },
    {
      "cell_type": "markdown",
      "metadata": {
        "id": "PV2WnwiZD0po"
      },
      "source": [
        "The following code finds the average prices of each price list created above based on the neighbourhood groups.\n",
        "It then creates an other list containing averages of each neigbourhood as tabulated below( values in the table are rounded up)."
      ]
    },
    {
      "cell_type": "code",
      "metadata": {
        "id": "g6Fi5FKew4Tx",
        "outputId": "73e07092-4355-4228-a989-426455f49989",
        "colab": {
          "base_uri": "https://localhost:8080/",
          "height": 102
        }
      },
      "source": [
        "def average(lista):\n",
        "  sums = 0\n",
        "  avg = 0\n",
        "  l = len(lista)\n",
        "  for i in lista:\n",
        "    sums = sums+i\n",
        "  avg = sums/l\n",
        "  return avg\n",
        "\n",
        "ALL_avg =[]\n",
        "ALL_avg.append(average(BK))\n",
        "ALL_avg.append(average(MN))\n",
        "ALL_avg.append(average(QN))\n",
        "ALL_avg.append(average(SI))\n",
        "ALL_avg.append(average(BR))\n",
        "\n",
        "ALL_avg\n",
        "\n",
        "\n",
        "\n"
      ],
      "execution_count": null,
      "outputs": [
        {
          "output_type": "execute_result",
          "data": {
            "text/plain": [
              "[124.38320732192598,\n",
              " 196.8758136743456,\n",
              " 99.51764913519237,\n",
              " 114.81233243967829,\n",
              " 87.4967919340055]"
            ]
          },
          "metadata": {
            "tags": []
          },
          "execution_count": 293
        }
      ]
    },
    {
      "cell_type": "markdown",
      "metadata": {
        "id": "vpx_6nNOyuym"
      },
      "source": [
        "|NEIGHBOURHOODS     | AVERAGE    |\n",
        "|--- | --- |\n",
        "|Brooklyn   | 124.38     |\n",
        "|Manhattan  | 196.88     |\n",
        "|Queens     | 99.52      |\n",
        "|Staten Island  | 114.81     |\n",
        "|Bronx    | 87.49      |"
      ]
    },
    {
      "cell_type": "markdown",
      "metadata": {
        "id": "BMnFKqc0pPtZ"
      },
      "source": [
        "###Calculating Number of listings per Neighbourhood\n",
        "--- "
      ]
    },
    {
      "cell_type": "markdown",
      "metadata": {
        "id": "eCMXkDhTE9T4"
      },
      "source": [
        "The following code aims to calculate the total number of listings in each neighbourhood.It creates a list of id values for each neighbourhood.Then it calculates the size of the list to provide the number of listings, which are then appended to the another list displayed as the output.\n",
        "All the findings from this code are tabulated below."
      ]
    },
    {
      "cell_type": "code",
      "metadata": {
        "id": "X5QYbI2Ox1Ta",
        "outputId": "5f05bbfa-d9c8-4439-f088-b106c6ee301a",
        "colab": {
          "base_uri": "https://localhost:8080/",
          "height": 34
        }
      },
      "source": [
        "BK_listings=[]\n",
        "MN_listings=[]\n",
        "QN_listings=[]\n",
        "SI_listings=[]\n",
        "BR_listings=[]\n",
        "\n",
        "\n",
        "for i in range(df.shape[0]):\n",
        "  if (df.iloc[i,4] == \"Brooklyn\"):\n",
        "      ids= df.iloc[i,0]\n",
        "      BK_listings.append(ids)\n",
        "  elif(df.iloc[i,4] == \"Manhattan\"):\n",
        "      ids = df.iloc[i,0]\n",
        "      MN_listings.append(ids)\n",
        "  elif (df.iloc[i,4] == \"Queens\"):\n",
        "      ids= df.iloc[i,0]\n",
        "      QN_listings.append(ids)\n",
        "  elif (df.iloc[i,4] == \"Staten Island\"):\n",
        "      ids = df.iloc[i,0]\n",
        "      SI_listings.append(ids)\n",
        "  elif (df.iloc[i,4] == \"Bronx\"):\n",
        "      ids = df.iloc[i,0]\n",
        "      BR_listings.append(ids)\n",
        "\n",
        "def total(listings):\n",
        "  return len(listings)\n",
        "\n",
        "Num_listings_each =[]\n",
        "B=total(BK_listings)\n",
        "M=total(MN_listings)\n",
        "Q=total(QN_listings)\n",
        "S=total(SI_listings)\n",
        "X=total(BR_listings)\n",
        "Num_listings_each.append(B)\n",
        "Num_listings_each.append(M)\n",
        "Num_listings_each.append(Q)\n",
        "Num_listings_each.append(S)\n",
        "Num_listings_each.append(X)\n",
        "Num_listings_each\n",
        "  \n"
      ],
      "execution_count": null,
      "outputs": [
        {
          "output_type": "execute_result",
          "data": {
            "text/plain": [
              "[20104, 21661, 5666, 373, 1091]"
            ]
          },
          "metadata": {
            "tags": []
          },
          "execution_count": 294
        }
      ]
    },
    {
      "cell_type": "markdown",
      "metadata": {
        "id": "DCaYjAuGrTGJ"
      },
      "source": [
        "|NEIGHBOURHOODS     | Number Of Listings  |\n",
        "|--- | --- |\n",
        "|Brooklyn   | 20104   |\n",
        "|Manhattan  | 21661   |\n",
        "|Queens     | 5666      |\n",
        "|Staten Island  | 373     |\n",
        "|Bronx    | 1091     |"
      ]
    },
    {
      "cell_type": "markdown",
      "metadata": {
        "id": "dR-fplWcrsDx"
      },
      "source": [
        "####Visualisation of our Calculations\n",
        "---"
      ]
    },
    {
      "cell_type": "markdown",
      "metadata": {
        "id": "QZnanrBDGF4-"
      },
      "source": [
        "The following bar charts display the relationship between:\n",
        "\n",
        "1) The average prices and neighbourhood group (in black)\n",
        "\n",
        "2) The number of listing and the neighbourhood group( in pink)\n",
        "\n",
        "The data represented in each bar graph was calculated above.The exact values are tabulated below for reference."
      ]
    },
    {
      "cell_type": "markdown",
      "metadata": {
        "id": "H0DpFZkGHaq4"
      },
      "source": [
        "|NEIGHBOURHOODS     | Number of Listings    | Average Price |\n",
        "|--- | --- | ---|\n",
        "|Brooklyn   | 20104    | 124.34 |\n",
        "|Manhattan  | 21661    |196.88|\n",
        "|Queens     | 5666     |99.52|\n",
        "|Staten Island  | 373     |114.81\n",
        "|Bronx    | 1091   |87.50|"
      ]
    },
    {
      "cell_type": "code",
      "metadata": {
        "id": "YPidM9Vw5f5X",
        "outputId": "f1067272-3017-4c22-bc37-b72744a6f9c3",
        "colab": {
          "base_uri": "https://localhost:8080/",
          "height": 525
        }
      },
      "source": [
        "ydata = ALL_avg\n",
        "xdata =[\"Brooklyn\", \"Manhattan\", \"Queens\", \"Staten Island\", \"Bronx\"]\n",
        "plt.bar(xdata,ydata, color='black') \n",
        "\n",
        "plt.ylabel(\"Prices\") \n",
        "plt.show()\n",
        "\n",
        "ydata = Num_listings_each\n",
        "xdata =[\"Brooklyn\", \"Manhattan\", \"Queens\", \"Staten Island\", \"Bronx\"]\n",
        "plt.bar(xdata,ydata, color='pink') \n",
        "\n",
        "plt.ylabel(\"Number Listings\") \n",
        "plt.show()"
      ],
      "execution_count": null,
      "outputs": [
        {
          "output_type": "display_data",
          "data": {
            "image/png": "[encoded data removed]",
            "text/plain": [
              "<Figure size 432x288 with 1 Axes>"
            ]
          },
          "metadata": {
            "tags": []
          }
        },
        {
          "output_type": "display_data",
          "data": {
            "image/png": "[encoded data removed]",
            "text/plain": [
              "<Figure size 432x288 with 1 Axes>"
            ]
          },
          "metadata": {
            "tags": []
          }
        }
      ]
    },
    {
      "cell_type": "markdown",
      "metadata": {
        "id": "gwGKRmSRHu74"
      },
      "source": [
        "From the above statistics,it can be deduced that:\n",
        "\n",
        "1) Manhattan has the highest number of listings, followed by Brooklyn.\n",
        "\n",
        "2) The average prices of Airbnbs is also the highest in Manhattan.\n",
        "\n",
        "3)Although there isn't a significant difference between the number of listings of Manhattan and Brooklyn,the average prices of both differ greatly."
      ]
    },
    {
      "cell_type": "markdown",
      "metadata": {
        "id": "Mya32xCRZk2o"
      },
      "source": [
        "### Categorising Prices\n",
        "\n",
        "\n",
        "\n"
      ]
    },
    {
      "cell_type": "markdown",
      "metadata": {
        "id": "j2ACWg3Hi9Lk"
      },
      "source": [
        "The following code categorizes Airbnbs based on different price gropus\n",
        "as follows:\n",
        "\n",
        "1)Cheap\n",
        "\n",
        "2)Affordable\n",
        "\n",
        "3)Expensive\n",
        "\n",
        "4)Luxurious\n",
        "And creates a new column \"Price Category\" in the data frame."
      ]
    },
    {
      "cell_type": "code",
      "metadata": {
        "id": "Dlx3buvuqgeX",
        "outputId": "e884a44c-2356-4ac6-d97a-72fb73d65361",
        "colab": {
          "base_uri": "https://localhost:8080/",
          "height": 428
        }
      },
      "source": [
        "def price_categories(price):\n",
        "  if ((0 <= price) and (price <= 30)):\n",
        "    c = \"Cheap\"\n",
        "    return c\n",
        "  elif ((31 <= price) and (price <= 100)):\n",
        "    A=\"Affordable\"\n",
        "    return A\n",
        "  elif (( 101<= price)) and ((price <=500)):\n",
        "    e=\"Expensive\"\n",
        "    return e\n",
        "  elif (price>=501):\n",
        "    l =\"Luxurious\"\n",
        "    return l\n",
        "\n",
        "price_cat = []\n",
        "for k in range( df.shape[0]):\n",
        "  catg= price_categories(df.iloc[k,9])\n",
        "  price_cat.append(catg)\n",
        "df[\"Price Category \"]= price_cat\n",
        "df.head(5)"
      ],
      "execution_count": null,
      "outputs": [
        {
          "output_type": "execute_result",
          "data": {
            "text/html": [
              "<div>\n",
              "<style scoped>\n",
              "    .dataframe tbody tr th:only-of-type {\n",
              "        vertical-align: middle;\n",
              "    }\n",
              "\n",
              "    .dataframe tbody tr th {\n",
              "        vertical-align: top;\n",
              "    }\n",
              "\n",
              "    .dataframe thead th {\n",
              "        text-align: right;\n",
              "    }\n",
              "</style>\n",
              "<table border=\"1\" class=\"dataframe\">\n",
              "  <thead>\n",
              "    <tr style=\"text-align: right;\">\n",
              "      <th></th>\n",
              "      <th>id</th>\n",
              "      <th>name</th>\n",
              "      <th>host_id</th>\n",
              "      <th>host_name</th>\n",
              "      <th>neighbourhood_group</th>\n",
              "      <th>neighbourhood</th>\n",
              "      <th>latitude</th>\n",
              "      <th>longitude</th>\n",
              "      <th>room_type</th>\n",
              "      <th>price</th>\n",
              "      <th>minimum_nights</th>\n",
              "      <th>number_of_reviews</th>\n",
              "      <th>last_review</th>\n",
              "      <th>reviews_per_month</th>\n",
              "      <th>calculated_host_listings_count</th>\n",
              "      <th>availability_365</th>\n",
              "      <th>Price Category</th>\n",
              "    </tr>\n",
              "  </thead>\n",
              "  <tbody>\n",
              "    <tr>\n",
              "      <th>0</th>\n",
              "      <td>2539</td>\n",
              "      <td>Clean &amp; quiet apt home by the park</td>\n",
              "      <td>2787</td>\n",
              "      <td>John</td>\n",
              "      <td>Brooklyn</td>\n",
              "      <td>Kensington</td>\n",
              "      <td>40.64749</td>\n",
              "      <td>-73.97237</td>\n",
              "      <td>Private room</td>\n",
              "      <td>149</td>\n",
              "      <td>1</td>\n",
              "      <td>9</td>\n",
              "      <td>2018-10-19</td>\n",
              "      <td>0.21</td>\n",
              "      <td>6</td>\n",
              "      <td>365</td>\n",
              "      <td>Expensive</td>\n",
              "    </tr>\n",
              "    <tr>\n",
              "      <th>1</th>\n",
              "      <td>2595</td>\n",
              "      <td>Skylit Midtown Castle</td>\n",
              "      <td>2845</td>\n",
              "      <td>Jennifer</td>\n",
              "      <td>Manhattan</td>\n",
              "      <td>Midtown</td>\n",
              "      <td>40.75362</td>\n",
              "      <td>-73.98377</td>\n",
              "      <td>Entire home/apt</td>\n",
              "      <td>225</td>\n",
              "      <td>1</td>\n",
              "      <td>45</td>\n",
              "      <td>2019-05-21</td>\n",
              "      <td>0.38</td>\n",
              "      <td>2</td>\n",
              "      <td>355</td>\n",
              "      <td>Expensive</td>\n",
              "    </tr>\n",
              "    <tr>\n",
              "      <th>2</th>\n",
              "      <td>3647</td>\n",
              "      <td>THE VILLAGE OF HARLEM....NEW YORK !</td>\n",
              "      <td>4632</td>\n",
              "      <td>Elisabeth</td>\n",
              "      <td>Manhattan</td>\n",
              "      <td>Harlem</td>\n",
              "      <td>40.80902</td>\n",
              "      <td>-73.94190</td>\n",
              "      <td>Private room</td>\n",
              "      <td>150</td>\n",
              "      <td>3</td>\n",
              "      <td>0</td>\n",
              "      <td>NaN</td>\n",
              "      <td>NaN</td>\n",
              "      <td>1</td>\n",
              "      <td>365</td>\n",
              "      <td>Expensive</td>\n",
              "    </tr>\n",
              "    <tr>\n",
              "      <th>3</th>\n",
              "      <td>3831</td>\n",
              "      <td>Cozy Entire Floor of Brownstone</td>\n",
              "      <td>4869</td>\n",
              "      <td>LisaRoxanne</td>\n",
              "      <td>Brooklyn</td>\n",
              "      <td>Clinton Hill</td>\n",
              "      <td>40.68514</td>\n",
              "      <td>-73.95976</td>\n",
              "      <td>Entire home/apt</td>\n",
              "      <td>89</td>\n",
              "      <td>1</td>\n",
              "      <td>270</td>\n",
              "      <td>2019-07-05</td>\n",
              "      <td>4.64</td>\n",
              "      <td>1</td>\n",
              "      <td>194</td>\n",
              "      <td>Affordable</td>\n",
              "    </tr>\n",
              "    <tr>\n",
              "      <th>4</th>\n",
              "      <td>5022</td>\n",
              "      <td>Entire Apt: Spacious Studio/Loft by central park</td>\n",
              "      <td>7192</td>\n",
              "      <td>Laura</td>\n",
              "      <td>Manhattan</td>\n",
              "      <td>East Harlem</td>\n",
              "      <td>40.79851</td>\n",
              "      <td>-73.94399</td>\n",
              "      <td>Entire home/apt</td>\n",
              "      <td>80</td>\n",
              "      <td>10</td>\n",
              "      <td>9</td>\n",
              "      <td>2018-11-19</td>\n",
              "      <td>0.10</td>\n",
              "      <td>1</td>\n",
              "      <td>0</td>\n",
              "      <td>Affordable</td>\n",
              "    </tr>\n",
              "  </tbody>\n",
              "</table>\n",
              "</div>"
            ],
            "text/plain": [
              "     id  ... Price Category \n",
              "0  2539  ...       Expensive\n",
              "1  2595  ...       Expensive\n",
              "2  3647  ...       Expensive\n",
              "3  3831  ...      Affordable\n",
              "4  5022  ...      Affordable\n",
              "\n",
              "[5 rows x 17 columns]"
            ]
          },
          "metadata": {
            "tags": []
          },
          "execution_count": 296
        }
      ]
    },
    {
      "cell_type": "markdown",
      "metadata": {
        "id": "a_RPqJovki_g"
      },
      "source": [
        "Creating a contingency table of the columns `neighbourhood_group` and`Price Category`"
      ]
    },
    {
      "cell_type": "code",
      "metadata": {
        "id": "u9j1rLbXulzJ",
        "outputId": "b58075f6-db79-49a6-f740-f9936a85dc46",
        "colab": {
          "base_uri": "https://localhost:8080/",
          "height": 235
        }
      },
      "source": [
        "Price_vs_borough= pd.crosstab(df[\"neighbourhood_group\"], df[\"Price Category \"])\n",
        "Price_vs_borough"
      ],
      "execution_count": null,
      "outputs": [
        {
          "output_type": "execute_result",
          "data": {
            "text/html": [
              "<div>\n",
              "<style scoped>\n",
              "    .dataframe tbody tr th:only-of-type {\n",
              "        vertical-align: middle;\n",
              "    }\n",
              "\n",
              "    .dataframe tbody tr th {\n",
              "        vertical-align: top;\n",
              "    }\n",
              "\n",
              "    .dataframe thead th {\n",
              "        text-align: right;\n",
              "    }\n",
              "</style>\n",
              "<table border=\"1\" class=\"dataframe\">\n",
              "  <thead>\n",
              "    <tr style=\"text-align: right;\">\n",
              "      <th>Price Category</th>\n",
              "      <th>Affordable</th>\n",
              "      <th>Cheap</th>\n",
              "      <th>Expensive</th>\n",
              "      <th>Luxurious</th>\n",
              "    </tr>\n",
              "    <tr>\n",
              "      <th>neighbourhood_group</th>\n",
              "      <th></th>\n",
              "      <th></th>\n",
              "      <th></th>\n",
              "      <th></th>\n",
              "    </tr>\n",
              "  </thead>\n",
              "  <tbody>\n",
              "    <tr>\n",
              "      <th>Bronx</th>\n",
              "      <td>798</td>\n",
              "      <td>67</td>\n",
              "      <td>219</td>\n",
              "      <td>7</td>\n",
              "    </tr>\n",
              "    <tr>\n",
              "      <th>Brooklyn</th>\n",
              "      <td>11428</td>\n",
              "      <td>343</td>\n",
              "      <td>8104</td>\n",
              "      <td>229</td>\n",
              "    </tr>\n",
              "    <tr>\n",
              "      <th>Manhattan</th>\n",
              "      <td>6846</td>\n",
              "      <td>75</td>\n",
              "      <td>13967</td>\n",
              "      <td>773</td>\n",
              "    </tr>\n",
              "    <tr>\n",
              "      <th>Queens</th>\n",
              "      <td>3943</td>\n",
              "      <td>158</td>\n",
              "      <td>1536</td>\n",
              "      <td>29</td>\n",
              "    </tr>\n",
              "    <tr>\n",
              "      <th>Staten Island</th>\n",
              "      <td>254</td>\n",
              "      <td>16</td>\n",
              "      <td>97</td>\n",
              "      <td>6</td>\n",
              "    </tr>\n",
              "  </tbody>\n",
              "</table>\n",
              "</div>"
            ],
            "text/plain": [
              "Price Category       Affordable  Cheap  Expensive  Luxurious\n",
              "neighbourhood_group                                         \n",
              "Bronx                       798     67        219          7\n",
              "Brooklyn                  11428    343       8104        229\n",
              "Manhattan                  6846     75      13967        773\n",
              "Queens                     3943    158       1536         29\n",
              "Staten Island               254     16         97          6"
            ]
          },
          "metadata": {
            "tags": []
          },
          "execution_count": 297
        }
      ]
    },
    {
      "cell_type": "markdown",
      "metadata": {
        "id": "HG9-xGEnlpXD"
      },
      "source": [
        "####Bar Chart"
      ]
    },
    {
      "cell_type": "markdown",
      "metadata": {
        "id": "8NnB1NxalV0s"
      },
      "source": [
        "Plotting a histogram using the above contingency table to show the comparison between each neigbourbood group and price categories.\n"
      ]
    },
    {
      "cell_type": "code",
      "metadata": {
        "id": "GZTuHkTb8qMR",
        "outputId": "f0461c7d-5322-49a4-95fd-6f098f403c97",
        "colab": {
          "base_uri": "https://localhost:8080/",
          "height": 271
        }
      },
      "source": [
        "norm =Price_vs_borough.div(Price_vs_borough.sum(axis=1),axis=0)\n",
        "norm= norm*100\n",
        "\n",
        "norm.plot.barh(stacked=True,legend=True)\n",
        "plt.legend()\n",
        "plt.show()"
      ],
      "execution_count": null,
      "outputs": [
        {
          "output_type": "display_data",
          "data": {
            "image/png": "[encoded data removed]",
            "text/plain": [
              "<Figure size 432x288 with 1 Axes>"
            ]
          },
          "metadata": {
            "tags": []
          }
        }
      ]
    },
    {
      "cell_type": "markdown",
      "metadata": {
        "id": "VEr-Q33-f0Fl"
      },
      "source": [
        "####ScatterPlot"
      ]
    },
    {
      "cell_type": "markdown",
      "metadata": {
        "id": "aRrDAZwwmw22"
      },
      "source": [
        "Scatter plot based on unique price categorizes \n"
      ]
    },
    {
      "cell_type": "code",
      "metadata": {
        "id": "allCLpjkmPlP",
        "outputId": "d0e8cdcf-5b8d-47f1-eef5-eab78fae50f5",
        "colab": {
          "base_uri": "https://localhost:8080/",
          "height": 306
        }
      },
      "source": [
        "sns.set_style(\"darkgrid\")\n",
        "sns.scatterplot(x=\"longitude\", y=\"latitude\", hue=\"Price Category \", data=df,size_order=9)"
      ],
      "execution_count": null,
      "outputs": [
        {
          "output_type": "execute_result",
          "data": {
            "text/plain": [
              "<matplotlib.axes._subplots.AxesSubplot at 0x7fb2ff4db5c0>"
            ]
          },
          "metadata": {
            "tags": []
          },
          "execution_count": 299
        },
        {
          "output_type": "display_data",
          "data": {
            "image/png": "[encoded data removed]",
            "text/plain": [
              "<Figure size 432x288 with 1 Axes>"
            ]
          },
          "metadata": {
            "tags": []
          }
        }
      ]
    },
    {
      "cell_type": "markdown",
      "metadata": {
        "id": "Js7SG4jEa-LM"
      },
      "source": [
        "###Categorising the Listings based on No. of Reviews"
      ]
    },
    {
      "cell_type": "markdown",
      "metadata": {
        "id": "9YWPHX_6nIHA"
      },
      "source": [
        "The following code categorizes Airbnbs based on different number of reviews as follows:\n",
        "\n",
        "1)Low Rated\n",
        "\n",
        "2)Average\n",
        "\n",
        "3)Good\n",
        "\n",
        "4)Excellent\n",
        "And creates a new column `Review Category` in the data frame."
      ]
    },
    {
      "cell_type": "code",
      "metadata": {
        "id": "Bk05f9RzxlDb",
        "outputId": "13bd9a7d-f3df-46be-c326-3292e3b88c45",
        "colab": {
          "base_uri": "https://localhost:8080/",
          "height": 346
        }
      },
      "source": [
        "def review_categories(r):\n",
        "  if ((0 <= r) and (r <= 1)):\n",
        "    Low= \"Low Rated\"\n",
        "    return Low\n",
        "  elif ((2<= r) and (r <=30)):\n",
        "    Aveg=\"Average\"\n",
        "    return Aveg\n",
        "  elif ((31<= r)) and ((r <=70)):\n",
        "    et=\"Good\"\n",
        "    return et\n",
        "  elif (r>=71):\n",
        "    l =\"Excellent\"\n",
        "    return l\n",
        "\n",
        "review_cat = []\n",
        "for x in range( df.shape[0]):\n",
        "  cati= review_categories(df.iloc[x,11])\n",
        "  review_cat.append(cati)\n",
        "df[\"Review Category \"]= review_cat\n",
        "df.head(4)"
      ],
      "execution_count": null,
      "outputs": [
        {
          "output_type": "execute_result",
          "data": {
            "text/html": [
              "<div>\n",
              "<style scoped>\n",
              "    .dataframe tbody tr th:only-of-type {\n",
              "        vertical-align: middle;\n",
              "    }\n",
              "\n",
              "    .dataframe tbody tr th {\n",
              "        vertical-align: top;\n",
              "    }\n",
              "\n",
              "    .dataframe thead th {\n",
              "        text-align: right;\n",
              "    }\n",
              "</style>\n",
              "<table border=\"1\" class=\"dataframe\">\n",
              "  <thead>\n",
              "    <tr style=\"text-align: right;\">\n",
              "      <th></th>\n",
              "      <th>id</th>\n",
              "      <th>name</th>\n",
              "      <th>host_id</th>\n",
              "      <th>host_name</th>\n",
              "      <th>neighbourhood_group</th>\n",
              "      <th>neighbourhood</th>\n",
              "      <th>latitude</th>\n",
              "      <th>longitude</th>\n",
              "      <th>room_type</th>\n",
              "      <th>price</th>\n",
              "      <th>minimum_nights</th>\n",
              "      <th>number_of_reviews</th>\n",
              "      <th>last_review</th>\n",
              "      <th>reviews_per_month</th>\n",
              "      <th>calculated_host_listings_count</th>\n",
              "      <th>availability_365</th>\n",
              "      <th>Price Category</th>\n",
              "      <th>Review Category</th>\n",
              "    </tr>\n",
              "  </thead>\n",
              "  <tbody>\n",
              "    <tr>\n",
              "      <th>0</th>\n",
              "      <td>2539</td>\n",
              "      <td>Clean &amp; quiet apt home by the park</td>\n",
              "      <td>2787</td>\n",
              "      <td>John</td>\n",
              "      <td>Brooklyn</td>\n",
              "      <td>Kensington</td>\n",
              "      <td>40.64749</td>\n",
              "      <td>-73.97237</td>\n",
              "      <td>Private room</td>\n",
              "      <td>149</td>\n",
              "      <td>1</td>\n",
              "      <td>9</td>\n",
              "      <td>2018-10-19</td>\n",
              "      <td>0.21</td>\n",
              "      <td>6</td>\n",
              "      <td>365</td>\n",
              "      <td>Expensive</td>\n",
              "      <td>Average</td>\n",
              "    </tr>\n",
              "    <tr>\n",
              "      <th>1</th>\n",
              "      <td>2595</td>\n",
              "      <td>Skylit Midtown Castle</td>\n",
              "      <td>2845</td>\n",
              "      <td>Jennifer</td>\n",
              "      <td>Manhattan</td>\n",
              "      <td>Midtown</td>\n",
              "      <td>40.75362</td>\n",
              "      <td>-73.98377</td>\n",
              "      <td>Entire home/apt</td>\n",
              "      <td>225</td>\n",
              "      <td>1</td>\n",
              "      <td>45</td>\n",
              "      <td>2019-05-21</td>\n",
              "      <td>0.38</td>\n",
              "      <td>2</td>\n",
              "      <td>355</td>\n",
              "      <td>Expensive</td>\n",
              "      <td>Good</td>\n",
              "    </tr>\n",
              "    <tr>\n",
              "      <th>2</th>\n",
              "      <td>3647</td>\n",
              "      <td>THE VILLAGE OF HARLEM....NEW YORK !</td>\n",
              "      <td>4632</td>\n",
              "      <td>Elisabeth</td>\n",
              "      <td>Manhattan</td>\n",
              "      <td>Harlem</td>\n",
              "      <td>40.80902</td>\n",
              "      <td>-73.94190</td>\n",
              "      <td>Private room</td>\n",
              "      <td>150</td>\n",
              "      <td>3</td>\n",
              "      <td>0</td>\n",
              "      <td>NaN</td>\n",
              "      <td>NaN</td>\n",
              "      <td>1</td>\n",
              "      <td>365</td>\n",
              "      <td>Expensive</td>\n",
              "      <td>Low Rated</td>\n",
              "    </tr>\n",
              "    <tr>\n",
              "      <th>3</th>\n",
              "      <td>3831</td>\n",
              "      <td>Cozy Entire Floor of Brownstone</td>\n",
              "      <td>4869</td>\n",
              "      <td>LisaRoxanne</td>\n",
              "      <td>Brooklyn</td>\n",
              "      <td>Clinton Hill</td>\n",
              "      <td>40.68514</td>\n",
              "      <td>-73.95976</td>\n",
              "      <td>Entire home/apt</td>\n",
              "      <td>89</td>\n",
              "      <td>1</td>\n",
              "      <td>270</td>\n",
              "      <td>2019-07-05</td>\n",
              "      <td>4.64</td>\n",
              "      <td>1</td>\n",
              "      <td>194</td>\n",
              "      <td>Affordable</td>\n",
              "      <td>Excellent</td>\n",
              "    </tr>\n",
              "  </tbody>\n",
              "</table>\n",
              "</div>"
            ],
            "text/plain": [
              "     id                                 name  ...  Price Category  Review Category \n",
              "0  2539   Clean & quiet apt home by the park  ...        Expensive          Average\n",
              "1  2595                Skylit Midtown Castle  ...        Expensive             Good\n",
              "2  3647  THE VILLAGE OF HARLEM....NEW YORK !  ...        Expensive        Low Rated\n",
              "3  3831      Cozy Entire Floor of Brownstone  ...       Affordable        Excellent\n",
              "\n",
              "[4 rows x 18 columns]"
            ]
          },
          "metadata": {
            "tags": []
          },
          "execution_count": 300
        }
      ]
    },
    {
      "cell_type": "markdown",
      "metadata": {
        "id": "xzqAaobTnjuu"
      },
      "source": [
        "Creating a contingency table of the columns `Review Category` and `Price Category`"
      ]
    },
    {
      "cell_type": "code",
      "metadata": {
        "id": "9-fgQwBC5jhj",
        "outputId": "0f549998-fe9d-43b9-d3aa-443974ec0be8",
        "colab": {
          "base_uri": "https://localhost:8080/",
          "height": 204
        }
      },
      "source": [
        "Reviews_vs_price= pd.crosstab(df[\"Review Category \"], df[\"Price Category \"])\n",
        "Reviews_vs_price"
      ],
      "execution_count": null,
      "outputs": [
        {
          "output_type": "execute_result",
          "data": {
            "text/html": [
              "<div>\n",
              "<style scoped>\n",
              "    .dataframe tbody tr th:only-of-type {\n",
              "        vertical-align: middle;\n",
              "    }\n",
              "\n",
              "    .dataframe tbody tr th {\n",
              "        vertical-align: top;\n",
              "    }\n",
              "\n",
              "    .dataframe thead th {\n",
              "        text-align: right;\n",
              "    }\n",
              "</style>\n",
              "<table border=\"1\" class=\"dataframe\">\n",
              "  <thead>\n",
              "    <tr style=\"text-align: right;\">\n",
              "      <th>Price Category</th>\n",
              "      <th>Affordable</th>\n",
              "      <th>Cheap</th>\n",
              "      <th>Expensive</th>\n",
              "      <th>Luxurious</th>\n",
              "    </tr>\n",
              "    <tr>\n",
              "      <th>Review Category</th>\n",
              "      <th></th>\n",
              "      <th></th>\n",
              "      <th></th>\n",
              "      <th></th>\n",
              "    </tr>\n",
              "  </thead>\n",
              "  <tbody>\n",
              "    <tr>\n",
              "      <th>Average</th>\n",
              "      <td>11075</td>\n",
              "      <td>324</td>\n",
              "      <td>11469</td>\n",
              "      <td>395</td>\n",
              "    </tr>\n",
              "    <tr>\n",
              "      <th>Excellent</th>\n",
              "      <td>2417</td>\n",
              "      <td>44</td>\n",
              "      <td>2381</td>\n",
              "      <td>32</td>\n",
              "    </tr>\n",
              "    <tr>\n",
              "      <th>Good</th>\n",
              "      <td>2789</td>\n",
              "      <td>55</td>\n",
              "      <td>2542</td>\n",
              "      <td>76</td>\n",
              "    </tr>\n",
              "    <tr>\n",
              "      <th>Low Rated</th>\n",
              "      <td>6988</td>\n",
              "      <td>236</td>\n",
              "      <td>7531</td>\n",
              "      <td>541</td>\n",
              "    </tr>\n",
              "  </tbody>\n",
              "</table>\n",
              "</div>"
            ],
            "text/plain": [
              "Price Category    Affordable  Cheap  Expensive  Luxurious\n",
              "Review Category                                          \n",
              "Average                11075    324      11469        395\n",
              "Excellent               2417     44       2381         32\n",
              "Good                    2789     55       2542         76\n",
              "Low Rated               6988    236       7531        541"
            ]
          },
          "metadata": {
            "tags": []
          },
          "execution_count": 301
        }
      ]
    },
    {
      "cell_type": "markdown",
      "metadata": {
        "id": "DHiKP7-Tn3EC"
      },
      "source": [
        "Plotting a histogram using the above contingency table to show the comparison between each review category and price category\n",
        "."
      ]
    },
    {
      "cell_type": "code",
      "metadata": {
        "id": "jB64VrsL9O6j",
        "outputId": "bf3ae477-0152-463f-fef1-36e898bbb59f",
        "colab": {
          "base_uri": "https://localhost:8080/",
          "height": 271
        }
      },
      "source": [
        "norml =Reviews_vs_price.div(Reviews_vs_price.sum(axis=1),axis=0)\n",
        "norml= norml*100\n",
        "\n",
        "norml.plot.barh(stacked=True,legend=True)\n",
        "plt.legend()\n",
        "plt.show()"
      ],
      "execution_count": null,
      "outputs": [
        {
          "output_type": "display_data",
          "data": {
            "image/png": "[encoded data removed]",
            "text/plain": [
              "<Figure size 432x288 with 1 Axes>"
            ]
          },
          "metadata": {
            "tags": []
          }
        }
      ]
    },
    {
      "cell_type": "markdown",
      "metadata": {
        "id": "ClhH3Yj1gR82"
      },
      "source": [
        "####ScatterPlot"
      ]
    },
    {
      "cell_type": "code",
      "metadata": {
        "id": "SOhciLGTgBhk",
        "outputId": "42edfc5f-5f6f-45e1-970e-c034d8c96c6b",
        "colab": {
          "base_uri": "https://localhost:8080/",
          "height": 306
        }
      },
      "source": [
        "sns.set_style(\"darkgrid\")\n",
        "sns.scatterplot(x=\"longitude\", y=\"latitude\", hue=\"Review Category \", data=df,size_order =9 )"
      ],
      "execution_count": null,
      "outputs": [
        {
          "output_type": "execute_result",
          "data": {
            "text/plain": [
              "<matplotlib.axes._subplots.AxesSubplot at 0x7fb2ff40e8d0>"
            ]
          },
          "metadata": {
            "tags": []
          },
          "execution_count": 303
        },
        {
          "output_type": "display_data",
          "data": {
            "image/png": "[encoded data removed]",
            "text/plain": [
              "<Figure size 432x288 with 1 Axes>"
            ]
          },
          "metadata": {
            "tags": []
          }
        }
      ]
    },
    {
      "cell_type": "markdown",
      "metadata": {
        "id": "COCJVQF9b6Hm"
      },
      "source": [
        "### Room Types and Prices"
      ]
    },
    {
      "cell_type": "markdown",
      "metadata": {
        "id": "-cf1ofFBpRem"
      },
      "source": [
        "Extracting unique room types from data"
      ]
    },
    {
      "cell_type": "code",
      "metadata": {
        "id": "PlAxvzf09N6g",
        "outputId": "8c6d1e40-42db-49e9-a959-5fb3c64d76be",
        "colab": {
          "base_uri": "https://localhost:8080/",
          "height": 34
        }
      },
      "source": [
        "Room_type= df.room_type.unique()\n",
        "Room_type"
      ],
      "execution_count": null,
      "outputs": [
        {
          "output_type": "execute_result",
          "data": {
            "text/plain": [
              "array(['Private room', 'Entire home/apt', 'Shared room'], dtype=object)"
            ]
          },
          "metadata": {
            "tags": []
          },
          "execution_count": 304
        }
      ]
    },
    {
      "cell_type": "markdown",
      "metadata": {
        "id": "_zecKz3fcMmA"
      },
      "source": [
        "### Room Types vs Price Category"
      ]
    },
    {
      "cell_type": "markdown",
      "metadata": {
        "id": "qwaz748WpW3K"
      },
      "source": [
        "Calculating the number of Airbnbs in each room type category based on their price categories.\n",
        "\n",
        "The results are tabulated below."
      ]
    },
    {
      "cell_type": "code",
      "metadata": {
        "id": "VjWpitAWFgOO",
        "outputId": "fcefb097-8cb1-44cb-fb31-5eba1f04baed",
        "colab": {
          "base_uri": "https://localhost:8080/",
          "height": 306
        }
      },
      "source": [
        "Afford_priv=0\n",
        "cheap_priv=0\n",
        "exp_priv=0\n",
        "lux_priv=0\n",
        "\n",
        "Afford_ent=0\n",
        "cheap_ent=0\n",
        "exp_ent=0\n",
        "lux_ent=0\n",
        "\n",
        "Afford_sh=0\n",
        "cheap_sh=0\n",
        "exp_sh=0\n",
        "lux_sh=0\n",
        "\n",
        "for i in range(df.shape[0]):\n",
        "  if (df.iloc[i,8] == \"Private room\"):\n",
        "    if(df.iloc[i,16] ==\"Affordable\"):\n",
        "      Afford_priv+=1\n",
        "    elif(df.iloc[i,16] ==\"Cheap\"):\n",
        "      cheap_priv+=1\n",
        "    elif(df.iloc[i,16]==\"Expensive\"):\n",
        "      exp_priv+=1\n",
        "    elif(df.iloc[i,16]==\"Luxurious\"):\n",
        "      lux_priv+=1\n",
        "  elif (df.iloc[i,8] == \"Entire home/apt\"):\n",
        "    if(df.iloc[i,16]==\"Affordable\"):\n",
        "      Afford_ent+=1\n",
        "    elif(df.iloc[i,16] ==\"Cheap\"):\n",
        "      cheap_ent+=1\n",
        "    elif(df.iloc[i,16] ==\"Expensive\"):\n",
        "      exp_ent+=1\n",
        "    elif(df.iloc[i,16] ==\"Luxurious\"):\n",
        "      lux_ent+=1\n",
        "  elif (df.iloc[i,8] == \"Shared room\"):\n",
        "    if(df.iloc[i,16] ==\"Affordable\"):\n",
        "      Afford_sh+=1\n",
        "    elif(df.iloc[i,16] ==\"Cheap\"):\n",
        "      cheap_sh+=1\n",
        "    elif(df.iloc[i,16]==\"Expensive\"):\n",
        "      exp_sh+=1\n",
        "    elif(df.iloc[i,16]==\"Luxurious\"):\n",
        "      lux_sh+=1\n",
        "print(\"Number of Private rooms:\")\n",
        "print(Afford_priv)\n",
        "print(cheap_priv)\n",
        "print(exp_priv)\n",
        "print(lux_priv)\n",
        "print(\"___________\")\n",
        "print(\"Number of Entire Apt/Home:\")\n",
        "print(Afford_ent)\n",
        "print(cheap_ent)\n",
        "print(exp_ent)\n",
        "print(lux_ent)\n",
        "print(\"___________\")\n",
        "print(\"Number of Shared rooms:\")\n",
        "print(Afford_sh)\n",
        "print(cheap_sh)\n",
        "print(exp_sh)\n",
        "print(lux_sh)"
      ],
      "execution_count": null,
      "outputs": [
        {
          "output_type": "stream",
          "text": [
            "Number of Private rooms:\n",
            "17941\n",
            "381\n",
            "3861\n",
            "143\n",
            "___________\n",
            "Number of Entire Apt/Home:\n",
            "4547\n",
            "27\n",
            "19942\n",
            "893\n",
            "___________\n",
            "Number of Shared rooms:\n",
            "781\n",
            "251\n",
            "120\n",
            "8\n"
          ],
          "name": "stdout"
        }
      ]
    },
    {
      "cell_type": "markdown",
      "metadata": {
        "id": "eLvgIkCHTYs-"
      },
      "source": [
        "|Price Category     | Private Room    |Entire Apt/Home  |Shared Room   |\n",
        "|--- | --- | --- | ---|\n",
        "|Affordable  | 17941| 4547| 781|\n",
        "|Cheap | 381| 27 | 251|\n",
        "|Expensive     |3861 | 19942 | 120|\n",
        "|Luxurious  | 143|893 | 8\n",
        "|"
      ]
    },
    {
      "cell_type": "markdown",
      "metadata": {
        "id": "IJJbf4AsgkeS"
      },
      "source": [
        "####Bar Charts"
      ]
    },
    {
      "cell_type": "markdown",
      "metadata": {
        "id": "cGcg738ErN6x"
      },
      "source": [
        "The bar charts below are a representation of the data extracted above."
      ]
    },
    {
      "cell_type": "code",
      "metadata": {
        "id": "kBwzlwZxOcN-",
        "outputId": "18265c8b-e753-43f7-90bb-35b6028d8b28",
        "colab": {
          "base_uri": "https://localhost:8080/",
          "height": 293
        }
      },
      "source": [
        "\n",
        "\n",
        "xdata = [\"Affordable\",\"Cheap\",\"Expensive\",\"Luxurious\"]\n",
        "y_priv =[Afford_priv,cheap_priv,exp_priv,lux_priv]\n",
        "y_ent=[Afford_ent,cheap_ent,exp_ent,lux_ent]\n",
        "y_sh=[Afford_sh,cheap_sh,exp_sh,lux_sh]\n",
        "\n",
        "\n",
        "\n",
        "\n",
        "fig, axs = plt.subplots(1, 3, figsize=(20,5), sharey=True)\n",
        "axs[0].bar(xdata, y_priv,color ='pink',label='Private Room')\n",
        "axs[1].bar(xdata, y_ent,color = 'black',label ='Entire Apt/Home')\n",
        "axs[2].bar(xdata, y_sh,color='grey',label= 'Shared Room')\n",
        "\n",
        "axs[0].set_title('Private Room')\n",
        "axs[1].set_title('Entire Apt/Home ')\n",
        "axs[2].set_title('Shared Room')\n",
        "\n",
        "\n",
        "print('Price Category Vs Room type')"
      ],
      "execution_count": null,
      "outputs": [
        {
          "output_type": "stream",
          "text": [
            "Price Category Vs Room type\n"
          ],
          "name": "stdout"
        },
        {
          "output_type": "display_data",
          "data": {
            "image/png": "[encoded data removed]",
            "text/plain": [
              "<Figure size 1440x360 with 3 Axes>"
            ]
          },
          "metadata": {
            "tags": []
          }
        }
      ]
    },
    {
      "cell_type": "markdown",
      "metadata": {
        "id": "dCCQccdLdmjr"
      },
      "source": [
        "### Room Types In each neighbourhood with respect to Prices"
      ]
    },
    {
      "cell_type": "markdown",
      "metadata": {
        "id": "odH4KKZ8r_hi"
      },
      "source": [
        "Calculating the number of Airbnbs in each neighbourhood with regard to room type based on their price categories.\n",
        "\n",
        "The results are tabulated below."
      ]
    },
    {
      "cell_type": "code",
      "metadata": {
        "id": "CiWMomzdtI4O",
        "outputId": "6be2ee40-10a7-4ac0-87f5-25523a07e7c4",
        "colab": {
          "base_uri": "https://localhost:8080/",
          "height": 425
        }
      },
      "source": [
        "man_priv=0\n",
        "man_e=0\n",
        "man_S=0\n",
        "\n",
        "br_priv=0\n",
        "br_e=0\n",
        "br_S=0\n",
        "\n",
        "q_priv=0\n",
        "q_e=0\n",
        "q_S=0\n",
        "\n",
        "si_priv=0\n",
        "si_e=0\n",
        "si_S=0\n",
        "\n",
        "bx_priv=0\n",
        "bx_e=0\n",
        "bx_S=0\n",
        "\n",
        "for i in range(df.shape[0]):\n",
        "  if (df.iloc[i,4] == \"Brooklyn\"):\n",
        "    if(df.iloc[i,8] ==\"Private room\"):\n",
        "      br_priv+=1\n",
        "    elif(df.iloc[i,8] ==\"Entire home/apt\"):\n",
        "      br_e+=1\n",
        "    elif(df.iloc[i,8]==\"Shared room\"):\n",
        "      br_S+=1\n",
        "\n",
        "\n",
        "  elif (df.iloc[i,4] == \"Manhattan\"):\n",
        "    if(df.iloc[i,8] ==\"Private room\"):\n",
        "      man_priv+=1\n",
        "    elif(df.iloc[i,8] ==\"Entire home/apt\"):\n",
        "      man_e+=1\n",
        "    elif(df.iloc[i,8]==\"Shared room\"):\n",
        "      man_S+=1\n",
        "  \n",
        "  elif (df.iloc[i,4] == \"Queens\"):\n",
        "    if(df.iloc[i,8] ==\"Private room\"):\n",
        "      q_priv+=1\n",
        "    elif(df.iloc[i,8] ==\"Entire home/apt\"):\n",
        "      q_e+=1\n",
        "    elif(df.iloc[i,8]==\"Shared room\"):\n",
        "      q_S+=1\n",
        "\n",
        "\n",
        "  elif (df.iloc[i,4] == \"Staten Island\"):\n",
        "    if(df.iloc[i,8] ==\"Private room\"):\n",
        "      si_priv+=1\n",
        "    elif(df.iloc[i,8] ==\"Entire home/apt\"):\n",
        "      si_e+=1\n",
        "    elif(df.iloc[i,8]==\"Shared room\"):\n",
        "      si_S+=1\n",
        "\n",
        "  elif (df.iloc[i,4] == \"Bronx\"):\n",
        "    if(df.iloc[i,8] ==\"Private room\"):\n",
        "      bx_priv+=1\n",
        "    elif(df.iloc[i,8] ==\"Entire home/apt\"):\n",
        "      bx_e+=1\n",
        "    elif(df.iloc[i,8]==\"Shared room\"):\n",
        "      bx_S+=1\n",
        "  \n",
        "\n",
        "print(\"Types of room in Brooklyn\")\n",
        "print(br_priv)\n",
        "print(br_e)\n",
        "print(br_S)\n",
        "print(\"--------\")\n",
        "print(\"Types of room in Manhattan\")\n",
        "print(man_priv)\n",
        "print(man_e)\n",
        "print(man_S)\n",
        "print(\"--------\")\n",
        "print(\"Types of room in Queens \")\n",
        "print(q_priv)\n",
        "print(q_e)\n",
        "print(q_S)\n",
        "print(\"--------\")\n",
        "print(\"Types of room in Staten Island\")\n",
        "print(si_priv)\n",
        "print(si_e)\n",
        "print(si_S)\n",
        "print(\"--------\")\n",
        "print(\"Types of room in Bronx\")\n",
        "print(bx_priv)\n",
        "print(bx_e)\n",
        "print(bx_S)"
      ],
      "execution_count": null,
      "outputs": [
        {
          "output_type": "stream",
          "text": [
            "Types of room in Brooklyn\n",
            "10132\n",
            "9559\n",
            "413\n",
            "--------\n",
            "Types of room in Manhattan\n",
            "7982\n",
            "13199\n",
            "480\n",
            "--------\n",
            "Types of room in Queens \n",
            "3372\n",
            "2096\n",
            "198\n",
            "--------\n",
            "Types of room in Staten Island\n",
            "188\n",
            "176\n",
            "9\n",
            "--------\n",
            "Types of room in Bronx\n",
            "652\n",
            "379\n",
            "60\n"
          ],
          "name": "stdout"
        }
      ]
    },
    {
      "cell_type": "code",
      "metadata": {
        "id": "E4VUh5kk0mqC"
      },
      "source": [
        "l_mn=[man_priv,man_e,man_S]\n",
        "l_br=[br_priv,br_e,br_S]\n",
        "l_qn=[q_priv,q_e,q_S]\n",
        "l_si=[si_priv,si_e,si_S]\n",
        "l_bx=[bx_priv,bx_e,bx_S]\n"
      ],
      "execution_count": null,
      "outputs": []
    },
    {
      "cell_type": "markdown",
      "metadata": {
        "id": "Wfvfxsnygrrm"
      },
      "source": [
        "####Bar Charts"
      ]
    },
    {
      "cell_type": "markdown",
      "metadata": {
        "id": "mE0nDN76sej7"
      },
      "source": [
        "The bar charts below are a representation of the data extracted above."
      ]
    },
    {
      "cell_type": "code",
      "metadata": {
        "id": "T5kzlybrtOSt",
        "outputId": "08d6b368-62aa-4ed6-9ce5-a6a79dbb2066",
        "colab": {
          "base_uri": "https://localhost:8080/",
          "height": 233
        }
      },
      "source": [
        "x_data= ['Private room', 'Entire home/apt', 'Shared room']\n",
        "fig, axs = plt.subplots(1, 5, figsize=(25,5), sharey=True)\n",
        "axs[0].bar(x_data, l_br,color ='pink')\n",
        "axs[1].bar(x_data, l_mn,color = 'black')\n",
        "axs[2].bar(x_data, l_qn,color='grey')\n",
        "axs[3].bar(x_data, l_si,color = 'purple')\n",
        "axs[4].bar(x_data, l_bx,color='blue')\n"
      ],
      "execution_count": null,
      "outputs": [
        {
          "output_type": "execute_result",
          "data": {
            "text/plain": [
              "<BarContainer object of 3 artists>"
            ]
          },
          "metadata": {
            "tags": []
          },
          "execution_count": 309
        },
        {
          "output_type": "display_data",
          "data": {
            "image/png": "[encoded data removed]",
            "text/plain": [
              "<Figure size 1800x360 with 5 Axes>"
            ]
          },
          "metadata": {
            "tags": []
          }
        }
      ]
    },
    {
      "cell_type": "markdown",
      "metadata": {
        "id": "_N4rsOcEr1vz"
      },
      "source": [
        "## Supplementary data set\n",
        "---"
      ]
    },
    {
      "cell_type": "markdown",
      "metadata": {
        "id": "pPiuaw_6sxxI"
      },
      "source": [
        "Investigating the Relation between Accessibility to Landmarks and the effect it has on the Prices & Number of Listings in a specific neighbourhood."
      ]
    },
    {
      "cell_type": "markdown",
      "metadata": {
        "id": "LTrWn5kdsQzH"
      },
      "source": [
        "###Opening Supplementary data set - NEW YORK LANDMARKS\n",
        "---"
      ]
    },
    {
      "cell_type": "code",
      "metadata": {
        "id": "pzsrqci9Rd6f"
      },
      "source": [
        "fname = \"LPC_Ind_Landmarks.csv\"\n",
        "land = pd.read_csv(join(path_prefix, fname))\n",
        "\n"
      ],
      "execution_count": null,
      "outputs": []
    },
    {
      "cell_type": "markdown",
      "metadata": {
        "id": "FGYgWdPrsELa"
      },
      "source": [
        "###Displaying the first 5 entries\n",
        "---"
      ]
    },
    {
      "cell_type": "code",
      "metadata": {
        "id": "9-IoQun0sMj3",
        "outputId": "dd3d34b6-bd1f-4254-b570-562bafcbac35",
        "colab": {
          "base_uri": "https://localhost:8080/",
          "height": 564
        }
      },
      "source": [
        "land.head()"
      ],
      "execution_count": null,
      "outputs": [
        {
          "output_type": "execute_result",
          "data": {
            "text/html": [
              "<div>\n",
              "<style scoped>\n",
              "    .dataframe tbody tr th:only-of-type {\n",
              "        vertical-align: middle;\n",
              "    }\n",
              "\n",
              "    .dataframe tbody tr th {\n",
              "        vertical-align: top;\n",
              "    }\n",
              "\n",
              "    .dataframe thead th {\n",
              "        text-align: right;\n",
              "    }\n",
              "</style>\n",
              "<table border=\"1\" class=\"dataframe\">\n",
              "  <thead>\n",
              "    <tr style=\"text-align: right;\">\n",
              "      <th></th>\n",
              "      <th>OBJECTID</th>\n",
              "      <th>the_geom</th>\n",
              "      <th>Borough</th>\n",
              "      <th>Block</th>\n",
              "      <th>Lot</th>\n",
              "      <th>Address</th>\n",
              "      <th>BBL</th>\n",
              "      <th>LPC_NAME</th>\n",
              "      <th>LPC_LPNumb</th>\n",
              "      <th>LPC_SiteDe</th>\n",
              "      <th>LPC_Altern</th>\n",
              "      <th>DesDate</th>\n",
              "      <th>LandmarkTy</th>\n",
              "      <th>URL_REPORT</th>\n",
              "    </tr>\n",
              "  </thead>\n",
              "  <tbody>\n",
              "    <tr>\n",
              "      <th>0</th>\n",
              "      <td>1</td>\n",
              "      <td>MULTIPOLYGON (((-74.09145318437727 40.64302777...</td>\n",
              "      <td>SI</td>\n",
              "      <td>58</td>\n",
              "      <td>27</td>\n",
              "      <td>105 Franklin Avenue</td>\n",
              "      <td>5000580027</td>\n",
              "      <td>105 Franklin Avenue House</td>\n",
              "      <td>LP-00330</td>\n",
              "      <td>Borough of Richmond Tax Map Block 58, Lot 27.</td>\n",
              "      <td>also known as Hamilton Park Cottage</td>\n",
              "      <td>10/13/1970 12:00:00 AM +0000</td>\n",
              "      <td>Individual Landmark</td>\n",
              "      <td>http://s-media.nyc.gov/agencies/lpc/lp/0330.pdf</td>\n",
              "    </tr>\n",
              "    <tr>\n",
              "      <th>1</th>\n",
              "      <td>2</td>\n",
              "      <td>MULTIPOLYGON (((-74.15192193203103 40.58295935...</td>\n",
              "      <td>SI</td>\n",
              "      <td>2390</td>\n",
              "      <td>194</td>\n",
              "      <td>435 Richmond Hill Road</td>\n",
              "      <td>5023900194</td>\n",
              "      <td>Decker Farmhouse</td>\n",
              "      <td>LP-00369</td>\n",
              "      <td>Borough of Richmond Tax Map Block 2390, Lot 194.</td>\n",
              "      <td>NaN</td>\n",
              "      <td>12/13/1967 12:00:00 AM +0000</td>\n",
              "      <td>Individual Landmark</td>\n",
              "      <td>http://s-media.nyc.gov/agencies/lpc/lp/0369.pdf</td>\n",
              "    </tr>\n",
              "    <tr>\n",
              "      <th>2</th>\n",
              "      <td>3</td>\n",
              "      <td>MULTIPOLYGON (((-74.07790665812387 40.63378980...</td>\n",
              "      <td>SI</td>\n",
              "      <td>506</td>\n",
              "      <td>81</td>\n",
              "      <td>98 Grant Street</td>\n",
              "      <td>5005060081</td>\n",
              "      <td>Public School 15 (Daniel D. Tompkins School)</td>\n",
              "      <td>LP-01877</td>\n",
              "      <td>Borough of Staten Island Tax Map Block 506, Lo...</td>\n",
              "      <td>NaN</td>\n",
              "      <td>11/19/1996 12:00:00 AM +0000</td>\n",
              "      <td>Individual Landmark</td>\n",
              "      <td>http://s-media.nyc.gov/agencies/lpc/lp/1877.pdf</td>\n",
              "    </tr>\n",
              "    <tr>\n",
              "      <th>3</th>\n",
              "      <td>4</td>\n",
              "      <td>MULTIPOLYGON (((-74.13066516743713 40.63716901...</td>\n",
              "      <td>SI</td>\n",
              "      <td>1015</td>\n",
              "      <td>9</td>\n",
              "      <td>121 Heberton Avenue</td>\n",
              "      <td>5010150009</td>\n",
              "      <td>121 Heberton Avenue House</td>\n",
              "      <td>LP-02120</td>\n",
              "      <td>Borough of the Staten Island Tax Map Block 101...</td>\n",
              "      <td>NaN</td>\n",
              "      <td>12/17/2002 12:00:00 AM +0000</td>\n",
              "      <td>Individual Landmark</td>\n",
              "      <td>http://s-media.nyc.gov/agencies/lpc/lp/2120.pdf</td>\n",
              "    </tr>\n",
              "    <tr>\n",
              "      <th>4</th>\n",
              "      <td>5</td>\n",
              "      <td>MULTIPOLYGON (((-74.13863423148467 40.57340207...</td>\n",
              "      <td>SI</td>\n",
              "      <td>2281</td>\n",
              "      <td>155</td>\n",
              "      <td>3531 Richmond Road</td>\n",
              "      <td>5022810155</td>\n",
              "      <td>Reverend David Moore House</td>\n",
              "      <td>LP-00366</td>\n",
              "      <td>Borough of Richmond Tax Map Block 2282, Lot 155.</td>\n",
              "      <td>also known as the Moore-McMillen House</td>\n",
              "      <td>08/24/1967 12:00:00 AM +0000</td>\n",
              "      <td>Individual Landmark</td>\n",
              "      <td>http://s-media.nyc.gov/agencies/lpc/lp/0366.pdf</td>\n",
              "    </tr>\n",
              "  </tbody>\n",
              "</table>\n",
              "</div>"
            ],
            "text/plain": [
              "   OBJECTID  ...                                       URL_REPORT\n",
              "0         1  ...  http://s-media.nyc.gov/agencies/lpc/lp/0330.pdf\n",
              "1         2  ...  http://s-media.nyc.gov/agencies/lpc/lp/0369.pdf\n",
              "2         3  ...  http://s-media.nyc.gov/agencies/lpc/lp/1877.pdf\n",
              "3         4  ...  http://s-media.nyc.gov/agencies/lpc/lp/2120.pdf\n",
              "4         5  ...  http://s-media.nyc.gov/agencies/lpc/lp/0366.pdf\n",
              "\n",
              "[5 rows x 14 columns]"
            ]
          },
          "metadata": {
            "tags": []
          },
          "execution_count": 311
        }
      ]
    },
    {
      "cell_type": "markdown",
      "metadata": {
        "id": "RSLZtu6Nsfq3"
      },
      "source": [
        "###Number of Landmarks/Rows\n",
        "---"
      ]
    },
    {
      "cell_type": "markdown",
      "metadata": {
        "id": "iZMNjp7eJbvw"
      },
      "source": [
        "The following piece of code returns the total number of landmarks present in the data set along with their details.\n"
      ]
    },
    {
      "cell_type": "code",
      "metadata": {
        "id": "58hLuR6FRkVa",
        "outputId": "6ff36c06-3e33-4af5-9633-f2e0589d561d",
        "colab": {
          "base_uri": "https://localhost:8080/",
          "height": 34
        }
      },
      "source": [
        "land.shape[0]\n"
      ],
      "execution_count": null,
      "outputs": [
        {
          "output_type": "execute_result",
          "data": {
            "text/plain": [
              "1492"
            ]
          },
          "metadata": {
            "tags": []
          },
          "execution_count": 312
        }
      ]
    },
    {
      "cell_type": "markdown",
      "metadata": {
        "id": "ktHAH5VTtEp1"
      },
      "source": [
        "###Description of Data\n",
        "---"
      ]
    },
    {
      "cell_type": "markdown",
      "metadata": {
        "id": "iFXzI5eEJ-h4"
      },
      "source": [
        "The output represents the break down of data avaiable for each Landmark.\n"
      ]
    },
    {
      "cell_type": "code",
      "metadata": {
        "id": "lOhXHiSMT6Zo",
        "outputId": "7535c2fd-07df-460f-b1c4-482d3361b335",
        "colab": {
          "base_uri": "https://localhost:8080/",
          "height": 272
        }
      },
      "source": [
        "land.dtypes\n"
      ],
      "execution_count": null,
      "outputs": [
        {
          "output_type": "execute_result",
          "data": {
            "text/plain": [
              "OBJECTID       int64\n",
              "the_geom      object\n",
              "Borough       object\n",
              "Block          int64\n",
              "Lot            int64\n",
              "Address       object\n",
              "BBL            int64\n",
              "LPC_NAME      object\n",
              "LPC_LPNumb    object\n",
              "LPC_SiteDe    object\n",
              "LPC_Altern    object\n",
              "DesDate       object\n",
              "LandmarkTy    object\n",
              "URL_REPORT    object\n",
              "dtype: object"
            ]
          },
          "metadata": {
            "tags": []
          },
          "execution_count": 313
        }
      ]
    },
    {
      "cell_type": "markdown",
      "metadata": {
        "id": "pdoErZjHtaPB"
      },
      "source": [
        "###Calculating the number of Landmarks per Neighbourhood\n",
        "---"
      ]
    },
    {
      "cell_type": "markdown",
      "metadata": {
        "id": "cPmSNQKpKZtz"
      },
      "source": [
        "The following section classifies the landmarks based on their neighbourhood groups.\n",
        "It includes:\n",
        "\n",
        "1) a list containing the name of landmarks for each neighbourhood group\n",
        "\n",
        "2) a list containing the total number of landmarks in each neighbourhood group\n",
        "\n",
        "The results of this code are tabulated below.\n"
      ]
    },
    {
      "cell_type": "code",
      "metadata": {
        "id": "oxF_Jm6lUIIU",
        "outputId": "8994fe12-a370-4ecf-82c5-9de434debad1",
        "colab": {
          "base_uri": "https://localhost:8080/",
          "height": 34
        }
      },
      "source": [
        "BK_pl=[]\n",
        "MN_pl=[]\n",
        "QN_pl=[]\n",
        "SI_pl=[]\n",
        "BX_pl=[]\n",
        "\n",
        "\n",
        "for i in range(land.shape[0]):\n",
        "  if (land.iloc[i,2] == \"BK\"):\n",
        "      name= land.iloc[i,6]\n",
        "      BK_pl.append(name)\n",
        "  elif(land.iloc[i,2] == \"MN\"):\n",
        "      name = land.iloc[i,6]\n",
        "      MN_pl.append(name)\n",
        "  elif (land.iloc[i,2] == \"QN\"):\n",
        "      name= land.iloc[i,6]\n",
        "      QN_pl.append(name)\n",
        "  elif (land.iloc[i,2] == \"SI\"):\n",
        "      name = land.iloc[i,6]\n",
        "      SI_pl.append(name)\n",
        "  elif (land.iloc[i,2] == \"BX\"):\n",
        "      name = land.iloc[i,6]\n",
        "      BX_pl.append(name)\n",
        "\n",
        "def total(listings):\n",
        "  return len(listings)\n",
        "\n",
        "Num_p =[]\n",
        "BK_L=total(BK_pl)\n",
        "MN_L=total(MN_pl)\n",
        "QN_L=total(QN_pl)\n",
        "SI_L=total(SI_pl)\n",
        "BX_L=total(BX_pl)\n",
        "\n",
        "\n",
        "\n",
        "Num_p.append(BK_L)\n",
        "Num_p.append(MN_L)\n",
        "Num_p.append(QN_L)\n",
        "Num_p.append(SI_L)\n",
        "Num_p.append(BX_L)\n",
        "\n",
        "Num_p\n",
        "\n",
        "\n",
        "\n",
        "\n",
        "  "
      ],
      "execution_count": null,
      "outputs": [
        {
          "output_type": "execute_result",
          "data": {
            "text/plain": [
              "[206, 959, 84, 138, 97]"
            ]
          },
          "metadata": {
            "tags": []
          },
          "execution_count": 314
        }
      ]
    },
    {
      "cell_type": "markdown",
      "metadata": {
        "id": "xNss-GXvrnf3"
      },
      "source": [
        "|NEIGHBOURHOODS     | Nummber of Landmarks    |\n",
        "|--- | --- |\n",
        "|Brooklyn   | 206    |\n",
        "|Manhattan  | 959     |\n",
        "|Queens     | 84      |\n",
        "|Staten Island  | 138     |\n",
        "|Bronx    | 97    |"
      ]
    },
    {
      "cell_type": "markdown",
      "metadata": {
        "id": "T4BFWhybtkkL"
      },
      "source": [
        "##Visualisation & Analyzing  the extracted Data\n",
        "---"
      ]
    },
    {
      "cell_type": "markdown",
      "metadata": {
        "id": "3vc1aG2iMg2g"
      },
      "source": [
        "The data collected above is used to plot:\n",
        "\n",
        "1) A pie chat \n",
        "\n",
        "2) A bar graph"
      ]
    },
    {
      "cell_type": "markdown",
      "metadata": {
        "id": "n7GS_y30jm3P"
      },
      "source": [
        "#### 1 Pie and Bar chart\n",
        "---"
      ]
    },
    {
      "cell_type": "code",
      "metadata": {
        "id": "YxrkiCeYzIDF",
        "outputId": "bffb0337-9c0b-488e-c17f-d899cbde4548",
        "colab": {
          "base_uri": "https://localhost:8080/",
          "height": 524
        }
      },
      "source": [
        "\n",
        "labels = 'Brooklyn', 'Manhattan', 'Queens', 'Staten Island', 'Bronx'\n",
        "\n",
        "explode = (0, 0.1, 0, 0,0)  # only \"explode\" the 2nd slice\n",
        "\n",
        "plt.pie(Num_p, explode=explode, labels=labels, autopct='%.1f',\n",
        "        shadow=True, startangle=90)\n",
        "plt.axis('equal')  # Equal aspect ratio ensures that pie is drawn as a circle.\n",
        "plt.title(\"% of Landmarks\")\n",
        "plt.show()\n",
        "\n",
        "ydata = Num_p\n",
        "xdata =[\"Brooklyn\", \"Manhattan\", \"Queens\", \"Staten Island\", \"Bronx\"]\n",
        "plt.bar(xdata,ydata, color='grey') \n",
        "\n",
        "plt.ylabel(\"LandMarks\") \n",
        "plt.show()\n",
        "\n"
      ],
      "execution_count": null,
      "outputs": [
        {
          "output_type": "display_data",
          "data": {
            "image/png": "[encoded data removed]",
            "text/plain": [
              "<Figure size 432x288 with 1 Axes>"
            ]
          },
          "metadata": {
            "tags": []
          }
        },
        {
          "output_type": "display_data",
          "data": {
            "image/png": "[encoded data removed]",
            "text/plain": [
              "<Figure size 432x288 with 1 Axes>"
            ]
          },
          "metadata": {
            "tags": []
          }
        }
      ]
    },
    {
      "cell_type": "markdown",
      "metadata": {
        "id": "v7PwB40nPM3S"
      },
      "source": [
        "From these above displayed statistics it is evident that Manhattan has the largest share of the total number of landmarks (64.6%).\n"
      ]
    },
    {
      "cell_type": "markdown",
      "metadata": {
        "id": "by2riGLzt7UE"
      },
      "source": [
        "#### Line graphs\n",
        "---"
      ]
    },
    {
      "cell_type": "markdown",
      "metadata": {
        "id": "tGxlSAilvXiP"
      },
      "source": [
        "The following figure show the relation between Neighbourhood group and Average Prices."
      ]
    },
    {
      "cell_type": "code",
      "metadata": {
        "id": "-M4P8FyAzEsL",
        "outputId": "884b46a1-001f-4024-cb42-fcb63a0eb518",
        "colab": {
          "base_uri": "https://localhost:8080/",
          "height": 306
        }
      },
      "source": [
        "plt.plot(Hoods,ALL_avg)\n",
        "plt.xlabel('Neighbourhood Group')\n",
        "plt.ylabel('Average Price')\n",
        "plt.title('Average Prices vs Neighbourhood Group ')\n",
        "\n",
        "\n",
        "plt.show()"
      ],
      "execution_count": null,
      "outputs": [
        {
          "output_type": "display_data",
          "data": {
            "image/png": "[encoded data removed]",
            "text/plain": [
              "<Figure size 432x288 with 1 Axes>"
            ]
          },
          "metadata": {
            "tags": []
          }
        }
      ]
    },
    {
      "cell_type": "markdown",
      "metadata": {
        "id": "je7DafgTvk4X"
      },
      "source": [
        "From these above displayed statistics it is evident that Manhattan has the Highest Average Prices"
      ]
    },
    {
      "cell_type": "markdown",
      "metadata": {
        "id": "GUZtF2pTvGZH"
      },
      "source": [
        "The following figure show the relation between Number of Landmarks and Average Prices in each neighbourhood group."
      ]
    },
    {
      "cell_type": "code",
      "metadata": {
        "id": "VERf-xXOQfAX",
        "outputId": "7e52ca2c-2a78-4256-efda-ca625d9d7cc3",
        "colab": {
          "base_uri": "https://localhost:8080/",
          "height": 306
        }
      },
      "source": [
        "x1 = Hoods\n",
        "y1 = Num_p\n",
        "plt.plot(x1, y1, label = \"Number of Landmarks\")\n",
        "x2 = Hoods\n",
        "y2 = ALL_avg\n",
        "plt.plot(x2, y2, label = \"Average price\")\n",
        "plt.xlabel('Neighbourhood Group')\n",
        "plt.ylabel('Number/ Price')\n",
        "plt.title('Average Prices and Number of Landmarks ')\n",
        "\n",
        "plt.legend()\n",
        "\n",
        "\n",
        "plt.show()"
      ],
      "execution_count": null,
      "outputs": [
        {
          "output_type": "display_data",
          "data": {
            "image/png": "[encoded data removed]",
            "text/plain": [
              "<Figure size 432x288 with 1 Axes>"
            ]
          },
          "metadata": {
            "tags": []
          }
        }
      ]
    },
    {
      "cell_type": "markdown",
      "metadata": {
        "id": "IrVLWOCPwgj8"
      },
      "source": [
        "Through this we can deduce that as that since Manhattan has the highest number of Landmarks, the Average price is Highest as well.\n",
        "This trend can be noticed in each neighbourhood group. To prove this finding we will further investigate using hypothesis testing."
      ]
    },
    {
      "cell_type": "markdown",
      "metadata": {
        "id": "QIfGH4gTxcyv"
      },
      "source": [
        "The following figure show the relation between Number of Landmarks and Number of Listings in each neighbourhood group."
      ]
    },
    {
      "cell_type": "code",
      "metadata": {
        "id": "tA6F0F8-Rbzi",
        "outputId": "d096eccb-6ae6-4f82-c434-ce911484a2e5",
        "colab": {
          "base_uri": "https://localhost:8080/",
          "height": 306
        }
      },
      "source": [
        "x4 = Hoods\n",
        "y5 = Num_listings_each\n",
        "plt.plot(x4, y5, label = \"Number of Arbnb Listings\")\n",
        "x7 = Hoods\n",
        "y8 = Num_p\n",
        "plt.plot(x7, y8, label = \"Number of Landmarks\")\n",
        "plt.xlabel('Neighbourhood Group')\n",
        "plt.ylabel('Number')\n",
        "plt.title('Number of Listings and Number of Landmarks ')\n",
        "\n",
        "plt.legend()\n",
        "\n",
        "plt.show()"
      ],
      "execution_count": null,
      "outputs": [
        {
          "output_type": "display_data",
          "data": {
            "image/png": "[encoded data removed]",
            "text/plain": [
              "<Figure size 432x288 with 1 Axes>"
            ]
          },
          "metadata": {
            "tags": []
          }
        }
      ]
    },
    {
      "cell_type": "markdown",
      "metadata": {
        "id": "zFUgmePGxV-3"
      },
      "source": [
        "Through this we can deduce that as that since Manhattan has the highest number of Landmarks, the Number of Listings is Highest as well. Even though there is not a huge difference in the Number of Listings of Brooklyn and Manhattan, as seen from the graph above there is a significant difference in the average prices.\n",
        " To prove this finding we will further investigate using hypothesis testing."
      ]
    },
    {
      "cell_type": "markdown",
      "metadata": {
        "id": "0WBsIegir-5T"
      },
      "source": [
        "|NEIGHBOURHOODS     | Number of Landmarks    | Average Price | Number of Listings\n",
        "|--- | --- | ---|----|\n",
        "|Brooklyn   | 206    | 124.34 |20104\n",
        "|Manhattan  | 959     |196.88|21661\n",
        "|Queens     | 84      |99.52|5666\n",
        "|Staten Island  | 138     |114.81|373\n",
        "|Bronx    | 97    |87.50| 1091\n"
      ]
    },
    {
      "cell_type": "markdown",
      "metadata": {
        "id": "-JmF8BxRyhv9"
      },
      "source": [
        "###Hypothesis Testing"
      ]
    },
    {
      "cell_type": "markdown",
      "metadata": {
        "id": "vvo2T69HXQ6L"
      },
      "source": [
        "####Adding Column for Landmarks in Borough"
      ]
    },
    {
      "cell_type": "markdown",
      "metadata": {
        "id": "TauWxe7lysAC"
      },
      "source": [
        "Adding the number of accesible Landmarks for each AIRBNB based on neighbourhood group. And creating a column `Land Marks In Borough`\n",
        "\n",
        "\n"
      ]
    },
    {
      "cell_type": "code",
      "metadata": {
        "id": "MvbRFH6oXi1y",
        "outputId": "cd4cee99-2913-4bd0-a63b-ea182628c3db",
        "colab": {
          "base_uri": "https://localhost:8080/",
          "height": 380
        }
      },
      "source": [
        "Land_Mark=[]\n",
        "\n",
        "for i in range(df.shape[0]):\n",
        "  if (df.iloc[i,4] == \"Brooklyn\"):\n",
        "    br_landm=BK_L\n",
        "    Land_Mark.append(br_landm)\n",
        "  elif (df.iloc[i,4] == \"Manhattan\"):\n",
        "    mn_landm=MN_L\n",
        "    Land_Mark.append(mn_landm)\n",
        "  elif (df.iloc[i,4] == \"Queens\"):\n",
        "    qn_landm=QN_L\n",
        "    Land_Mark.append(qn_landm)\n",
        "  elif (df.iloc[i,4] == \"Staten Island\"):\n",
        "     si_landm=SI_L\n",
        "     Land_Mark.append(si_landm)\n",
        "  elif (df.iloc[i,4] == \"Bronx\"):\n",
        "     bx_landm=BX_L\n",
        "     Land_Mark.append(bx_landm)\n",
        "    \n",
        "df[\"Land Marks In Borough\"]= Land_Mark\n",
        "df.head(4)\n",
        "\n"
      ],
      "execution_count": null,
      "outputs": [
        {
          "output_type": "execute_result",
          "data": {
            "text/html": [
              "<div>\n",
              "<style scoped>\n",
              "    .dataframe tbody tr th:only-of-type {\n",
              "        vertical-align: middle;\n",
              "    }\n",
              "\n",
              "    .dataframe tbody tr th {\n",
              "        vertical-align: top;\n",
              "    }\n",
              "\n",
              "    .dataframe thead th {\n",
              "        text-align: right;\n",
              "    }\n",
              "</style>\n",
              "<table border=\"1\" class=\"dataframe\">\n",
              "  <thead>\n",
              "    <tr style=\"text-align: right;\">\n",
              "      <th></th>\n",
              "      <th>id</th>\n",
              "      <th>name</th>\n",
              "      <th>host_id</th>\n",
              "      <th>host_name</th>\n",
              "      <th>neighbourhood_group</th>\n",
              "      <th>neighbourhood</th>\n",
              "      <th>latitude</th>\n",
              "      <th>longitude</th>\n",
              "      <th>room_type</th>\n",
              "      <th>price</th>\n",
              "      <th>minimum_nights</th>\n",
              "      <th>number_of_reviews</th>\n",
              "      <th>last_review</th>\n",
              "      <th>reviews_per_month</th>\n",
              "      <th>calculated_host_listings_count</th>\n",
              "      <th>availability_365</th>\n",
              "      <th>Price Category</th>\n",
              "      <th>Review Category</th>\n",
              "      <th>Land Marks In Borough</th>\n",
              "    </tr>\n",
              "  </thead>\n",
              "  <tbody>\n",
              "    <tr>\n",
              "      <th>0</th>\n",
              "      <td>2539</td>\n",
              "      <td>Clean &amp; quiet apt home by the park</td>\n",
              "      <td>2787</td>\n",
              "      <td>John</td>\n",
              "      <td>Brooklyn</td>\n",
              "      <td>Kensington</td>\n",
              "      <td>40.64749</td>\n",
              "      <td>-73.97237</td>\n",
              "      <td>Private room</td>\n",
              "      <td>149</td>\n",
              "      <td>1</td>\n",
              "      <td>9</td>\n",
              "      <td>2018-10-19</td>\n",
              "      <td>0.21</td>\n",
              "      <td>6</td>\n",
              "      <td>365</td>\n",
              "      <td>Expensive</td>\n",
              "      <td>Average</td>\n",
              "      <td>206</td>\n",
              "    </tr>\n",
              "    <tr>\n",
              "      <th>1</th>\n",
              "      <td>2595</td>\n",
              "      <td>Skylit Midtown Castle</td>\n",
              "      <td>2845</td>\n",
              "      <td>Jennifer</td>\n",
              "      <td>Manhattan</td>\n",
              "      <td>Midtown</td>\n",
              "      <td>40.75362</td>\n",
              "      <td>-73.98377</td>\n",
              "      <td>Entire home/apt</td>\n",
              "      <td>225</td>\n",
              "      <td>1</td>\n",
              "      <td>45</td>\n",
              "      <td>2019-05-21</td>\n",
              "      <td>0.38</td>\n",
              "      <td>2</td>\n",
              "      <td>355</td>\n",
              "      <td>Expensive</td>\n",
              "      <td>Good</td>\n",
              "      <td>959</td>\n",
              "    </tr>\n",
              "    <tr>\n",
              "      <th>2</th>\n",
              "      <td>3647</td>\n",
              "      <td>THE VILLAGE OF HARLEM....NEW YORK !</td>\n",
              "      <td>4632</td>\n",
              "      <td>Elisabeth</td>\n",
              "      <td>Manhattan</td>\n",
              "      <td>Harlem</td>\n",
              "      <td>40.80902</td>\n",
              "      <td>-73.94190</td>\n",
              "      <td>Private room</td>\n",
              "      <td>150</td>\n",
              "      <td>3</td>\n",
              "      <td>0</td>\n",
              "      <td>NaN</td>\n",
              "      <td>NaN</td>\n",
              "      <td>1</td>\n",
              "      <td>365</td>\n",
              "      <td>Expensive</td>\n",
              "      <td>Low Rated</td>\n",
              "      <td>959</td>\n",
              "    </tr>\n",
              "    <tr>\n",
              "      <th>3</th>\n",
              "      <td>3831</td>\n",
              "      <td>Cozy Entire Floor of Brownstone</td>\n",
              "      <td>4869</td>\n",
              "      <td>LisaRoxanne</td>\n",
              "      <td>Brooklyn</td>\n",
              "      <td>Clinton Hill</td>\n",
              "      <td>40.68514</td>\n",
              "      <td>-73.95976</td>\n",
              "      <td>Entire home/apt</td>\n",
              "      <td>89</td>\n",
              "      <td>1</td>\n",
              "      <td>270</td>\n",
              "      <td>2019-07-05</td>\n",
              "      <td>4.64</td>\n",
              "      <td>1</td>\n",
              "      <td>194</td>\n",
              "      <td>Affordable</td>\n",
              "      <td>Excellent</td>\n",
              "      <td>206</td>\n",
              "    </tr>\n",
              "  </tbody>\n",
              "</table>\n",
              "</div>"
            ],
            "text/plain": [
              "     id  ... Land Marks In Borough\n",
              "0  2539  ...                   206\n",
              "1  2595  ...                   959\n",
              "2  3647  ...                   959\n",
              "3  3831  ...                   206\n",
              "\n",
              "[4 rows x 19 columns]"
            ]
          },
          "metadata": {
            "tags": []
          },
          "execution_count": 319
        }
      ]
    },
    {
      "cell_type": "markdown",
      "metadata": {
        "id": "0yU1qnvwXpVb"
      },
      "source": [
        "###Adding Column for Accessibilty to LandMarks"
      ]
    },
    {
      "cell_type": "markdown",
      "metadata": {
        "id": "ktxpPneHzikY"
      },
      "source": [
        "Categorising Accesibility to Landmarks from each Airbnb as follows:\n",
        "\n",
        "1)Low\n",
        "\n",
        "2)Moderate\n",
        "\n",
        "3)High\n",
        "\n",
        "4)Best\n",
        "\n",
        "and creating a column `Accessibilty to LandMarks`"
      ]
    },
    {
      "cell_type": "code",
      "metadata": {
        "id": "SUYwOF8liwLC",
        "outputId": "1d8c1639-47ec-45cb-f055-73e85f23ff5c",
        "colab": {
          "base_uri": "https://localhost:8080/",
          "height": 380
        }
      },
      "source": [
        "def access_categories(num):\n",
        "  if ((50<=num) and ( num<= 100)):\n",
        "    A=\"Low\"\n",
        "    return A\n",
        "  elif ((101<= num)) and ((num <=200)):\n",
        "    e=\"Moderate\"\n",
        "    return e\n",
        "  elif ((201<= num)) and ((num <=500)):\n",
        "    e=\"High\"\n",
        "    return e\n",
        "  elif (num>=501):\n",
        "    l =\"Best\"\n",
        "    return l\n",
        "\n",
        "access_cat = []\n",
        "for k in range( df.shape[0]):\n",
        "  catt= access_categories(df.iloc[k,18])\n",
        "  access_cat.append(catt)\n",
        "df[\"Accessibilty to LandMarks\"]= access_cat \n",
        "df.head(4)\n"
      ],
      "execution_count": null,
      "outputs": [
        {
          "output_type": "execute_result",
          "data": {
            "text/html": [
              "<div>\n",
              "<style scoped>\n",
              "    .dataframe tbody tr th:only-of-type {\n",
              "        vertical-align: middle;\n",
              "    }\n",
              "\n",
              "    .dataframe tbody tr th {\n",
              "        vertical-align: top;\n",
              "    }\n",
              "\n",
              "    .dataframe thead th {\n",
              "        text-align: right;\n",
              "    }\n",
              "</style>\n",
              "<table border=\"1\" class=\"dataframe\">\n",
              "  <thead>\n",
              "    <tr style=\"text-align: right;\">\n",
              "      <th></th>\n",
              "      <th>id</th>\n",
              "      <th>name</th>\n",
              "      <th>host_id</th>\n",
              "      <th>host_name</th>\n",
              "      <th>neighbourhood_group</th>\n",
              "      <th>neighbourhood</th>\n",
              "      <th>latitude</th>\n",
              "      <th>longitude</th>\n",
              "      <th>room_type</th>\n",
              "      <th>price</th>\n",
              "      <th>minimum_nights</th>\n",
              "      <th>number_of_reviews</th>\n",
              "      <th>last_review</th>\n",
              "      <th>reviews_per_month</th>\n",
              "      <th>calculated_host_listings_count</th>\n",
              "      <th>availability_365</th>\n",
              "      <th>Price Category</th>\n",
              "      <th>Review Category</th>\n",
              "      <th>Land Marks In Borough</th>\n",
              "      <th>Accessibilty to LandMarks</th>\n",
              "    </tr>\n",
              "  </thead>\n",
              "  <tbody>\n",
              "    <tr>\n",
              "      <th>0</th>\n",
              "      <td>2539</td>\n",
              "      <td>Clean &amp; quiet apt home by the park</td>\n",
              "      <td>2787</td>\n",
              "      <td>John</td>\n",
              "      <td>Brooklyn</td>\n",
              "      <td>Kensington</td>\n",
              "      <td>40.64749</td>\n",
              "      <td>-73.97237</td>\n",
              "      <td>Private room</td>\n",
              "      <td>149</td>\n",
              "      <td>1</td>\n",
              "      <td>9</td>\n",
              "      <td>2018-10-19</td>\n",
              "      <td>0.21</td>\n",
              "      <td>6</td>\n",
              "      <td>365</td>\n",
              "      <td>Expensive</td>\n",
              "      <td>Average</td>\n",
              "      <td>206</td>\n",
              "      <td>High</td>\n",
              "    </tr>\n",
              "    <tr>\n",
              "      <th>1</th>\n",
              "      <td>2595</td>\n",
              "      <td>Skylit Midtown Castle</td>\n",
              "      <td>2845</td>\n",
              "      <td>Jennifer</td>\n",
              "      <td>Manhattan</td>\n",
              "      <td>Midtown</td>\n",
              "      <td>40.75362</td>\n",
              "      <td>-73.98377</td>\n",
              "      <td>Entire home/apt</td>\n",
              "      <td>225</td>\n",
              "      <td>1</td>\n",
              "      <td>45</td>\n",
              "      <td>2019-05-21</td>\n",
              "      <td>0.38</td>\n",
              "      <td>2</td>\n",
              "      <td>355</td>\n",
              "      <td>Expensive</td>\n",
              "      <td>Good</td>\n",
              "      <td>959</td>\n",
              "      <td>Best</td>\n",
              "    </tr>\n",
              "    <tr>\n",
              "      <th>2</th>\n",
              "      <td>3647</td>\n",
              "      <td>THE VILLAGE OF HARLEM....NEW YORK !</td>\n",
              "      <td>4632</td>\n",
              "      <td>Elisabeth</td>\n",
              "      <td>Manhattan</td>\n",
              "      <td>Harlem</td>\n",
              "      <td>40.80902</td>\n",
              "      <td>-73.94190</td>\n",
              "      <td>Private room</td>\n",
              "      <td>150</td>\n",
              "      <td>3</td>\n",
              "      <td>0</td>\n",
              "      <td>NaN</td>\n",
              "      <td>NaN</td>\n",
              "      <td>1</td>\n",
              "      <td>365</td>\n",
              "      <td>Expensive</td>\n",
              "      <td>Low Rated</td>\n",
              "      <td>959</td>\n",
              "      <td>Best</td>\n",
              "    </tr>\n",
              "    <tr>\n",
              "      <th>3</th>\n",
              "      <td>3831</td>\n",
              "      <td>Cozy Entire Floor of Brownstone</td>\n",
              "      <td>4869</td>\n",
              "      <td>LisaRoxanne</td>\n",
              "      <td>Brooklyn</td>\n",
              "      <td>Clinton Hill</td>\n",
              "      <td>40.68514</td>\n",
              "      <td>-73.95976</td>\n",
              "      <td>Entire home/apt</td>\n",
              "      <td>89</td>\n",
              "      <td>1</td>\n",
              "      <td>270</td>\n",
              "      <td>2019-07-05</td>\n",
              "      <td>4.64</td>\n",
              "      <td>1</td>\n",
              "      <td>194</td>\n",
              "      <td>Affordable</td>\n",
              "      <td>Excellent</td>\n",
              "      <td>206</td>\n",
              "      <td>High</td>\n",
              "    </tr>\n",
              "  </tbody>\n",
              "</table>\n",
              "</div>"
            ],
            "text/plain": [
              "     id  ... Accessibilty to LandMarks\n",
              "0  2539  ...                      High\n",
              "1  2595  ...                      Best\n",
              "2  3647  ...                      Best\n",
              "3  3831  ...                      High\n",
              "\n",
              "[4 rows x 20 columns]"
            ]
          },
          "metadata": {
            "tags": []
          },
          "execution_count": 320
        }
      ]
    },
    {
      "cell_type": "markdown",
      "metadata": {
        "id": "AtpIbuL9fpiJ"
      },
      "source": [
        "Contingency Table of `Accessibilty to LandMarks` and `Price Category`"
      ]
    },
    {
      "cell_type": "code",
      "metadata": {
        "id": "ABOhb6Ur0PJZ",
        "outputId": "885b60a4-9832-4716-ab68-6ef0e7c8f14d",
        "colab": {
          "base_uri": "https://localhost:8080/",
          "height": 204
        }
      },
      "source": [
        "Accessiblity_vs_Price= pd.crosstab(df[\"Accessibilty to LandMarks\"], df[\"Price Category \"])\n",
        "\n",
        "Accessiblity_vs_Price"
      ],
      "execution_count": null,
      "outputs": [
        {
          "output_type": "execute_result",
          "data": {
            "text/html": [
              "<div>\n",
              "<style scoped>\n",
              "    .dataframe tbody tr th:only-of-type {\n",
              "        vertical-align: middle;\n",
              "    }\n",
              "\n",
              "    .dataframe tbody tr th {\n",
              "        vertical-align: top;\n",
              "    }\n",
              "\n",
              "    .dataframe thead th {\n",
              "        text-align: right;\n",
              "    }\n",
              "</style>\n",
              "<table border=\"1\" class=\"dataframe\">\n",
              "  <thead>\n",
              "    <tr style=\"text-align: right;\">\n",
              "      <th>Price Category</th>\n",
              "      <th>Affordable</th>\n",
              "      <th>Cheap</th>\n",
              "      <th>Expensive</th>\n",
              "      <th>Luxurious</th>\n",
              "    </tr>\n",
              "    <tr>\n",
              "      <th>Accessibilty to LandMarks</th>\n",
              "      <th></th>\n",
              "      <th></th>\n",
              "      <th></th>\n",
              "      <th></th>\n",
              "    </tr>\n",
              "  </thead>\n",
              "  <tbody>\n",
              "    <tr>\n",
              "      <th>Best</th>\n",
              "      <td>6846</td>\n",
              "      <td>75</td>\n",
              "      <td>13967</td>\n",
              "      <td>773</td>\n",
              "    </tr>\n",
              "    <tr>\n",
              "      <th>High</th>\n",
              "      <td>11428</td>\n",
              "      <td>343</td>\n",
              "      <td>8104</td>\n",
              "      <td>229</td>\n",
              "    </tr>\n",
              "    <tr>\n",
              "      <th>Low</th>\n",
              "      <td>4741</td>\n",
              "      <td>225</td>\n",
              "      <td>1755</td>\n",
              "      <td>36</td>\n",
              "    </tr>\n",
              "    <tr>\n",
              "      <th>Moderate</th>\n",
              "      <td>254</td>\n",
              "      <td>16</td>\n",
              "      <td>97</td>\n",
              "      <td>6</td>\n",
              "    </tr>\n",
              "  </tbody>\n",
              "</table>\n",
              "</div>"
            ],
            "text/plain": [
              "Price Category             Affordable  Cheap  Expensive  Luxurious\n",
              "Accessibilty to LandMarks                                         \n",
              "Best                             6846     75      13967        773\n",
              "High                            11428    343       8104        229\n",
              "Low                              4741    225       1755         36\n",
              "Moderate                          254     16         97          6"
            ]
          },
          "metadata": {
            "tags": []
          },
          "execution_count": 321
        }
      ]
    },
    {
      "cell_type": "markdown",
      "metadata": {
        "id": "H7zykAfzf2R2"
      },
      "source": [
        "####Bar Chart"
      ]
    },
    {
      "cell_type": "markdown",
      "metadata": {
        "id": "K8VtEJ3L0g3t"
      },
      "source": [
        "Bar chart showing the Accesibilty vs Prices"
      ]
    },
    {
      "cell_type": "code",
      "metadata": {
        "id": "3kiyD5v_7RxH",
        "outputId": "b3a085fa-1aa3-4676-d3ae-0fb607a0c368",
        "colab": {
          "base_uri": "https://localhost:8080/",
          "height": 271
        }
      },
      "source": [
        "\n",
        "normalize =Accessiblity_vs_Price.div(Accessiblity_vs_Price.sum(axis=1),axis=0)\n",
        "normalize= normalize*100\n",
        "\n",
        "normalize.plot.barh(stacked=True,legend=True)\n",
        "plt.legend()\n",
        "plt.show()"
      ],
      "execution_count": null,
      "outputs": [
        {
          "output_type": "display_data",
          "data": {
            "image/png": "[encoded data removed]",
            "text/plain": [
              "<Figure size 432x288 with 1 Axes>"
            ]
          },
          "metadata": {
            "tags": []
          }
        }
      ]
    },
    {
      "cell_type": "markdown",
      "metadata": {
        "id": "Gbv8v5i-c2S_"
      },
      "source": [
        "The above contingency table and bar chart depicts an interesting trend in our data.The airbnbs with the best accessibilty to landmarks are the mostly either expensive or in the luxurious price ranges.And the ones with moderate or low accessibility are mostly affordable.\n",
        "\n",
        "Hence, we will now further investigate and try to find deduce the mathematical relation that might exist:"
      ]
    },
    {
      "cell_type": "markdown",
      "metadata": {
        "id": "vqLwOkkGf8l5"
      },
      "source": [
        "###Null Hypothesis"
      ]
    },
    {
      "cell_type": "markdown",
      "metadata": {
        "id": "YJR8j82vECjA"
      },
      "source": [
        "In the following test, our hypotheses setting is the following:\n",
        "\n",
        "$H_0$: `Accessibilty to LandMarks` and `Price Category ` are independent variables.\n",
        "\n",
        "$H_A$: `Accessibilty to LandMarks` and `Price Category ` are **not** independent variables."
      ]
    },
    {
      "cell_type": "markdown",
      "metadata": {
        "id": "_YlR1MzO1WXC"
      },
      "source": [
        "Using Chi-Test from scipy on the Contingency Table (`Accessiblity`_vs_`Price`)\n",
        "to evaluate the p-value."
      ]
    },
    {
      "cell_type": "code",
      "metadata": {
        "id": "d8r_cVYA7kg2",
        "outputId": "e5672138-414b-4eeb-8c84-312ac12d81ae",
        "colab": {
          "base_uri": "https://localhost:8080/",
          "height": 136
        }
      },
      "source": [
        "from scipy import stats\n",
        "stats.chi2_contingency(Accessiblity_vs_Price)"
      ],
      "execution_count": null,
      "outputs": [
        {
          "output_type": "execute_result",
          "data": {
            "text/plain": [
              "(5209.8781995523605,\n",
              " 0.0,\n",
              " 9,\n",
              " array([[1.03084121e+04, 2.91943941e+02, 1.05981410e+04, 4.62502996e+02],\n",
              "        [9.56743994e+03, 2.70958912e+02, 9.83634302e+03, 4.29258125e+02],\n",
              "        [3.21563827e+03, 9.10699049e+01, 3.30601720e+03, 1.44274629e+02],\n",
              "        [1.77509704e+02, 5.02724205e+00, 1.82498804e+02, 7.96424992e+00]]))"
            ]
          },
          "metadata": {
            "tags": []
          },
          "execution_count": 323
        }
      ]
    },
    {
      "cell_type": "markdown",
      "metadata": {
        "id": "HFY3rGly1xt0"
      },
      "source": [
        "| X^2     | P-Value   | Degree of Freedom\n",
        "|---| ---| ---|\n",
        "|5209.8781995523605 | 0.0 | 9"
      ]
    },
    {
      "cell_type": "code",
      "metadata": {
        "id": "p7yDGaphBPOb",
        "outputId": "e85e2df1-8fd3-471b-a4f1-e4db53997055",
        "colab": {
          "base_uri": "https://localhost:8080/",
          "height": 51
        }
      },
      "source": [
        "from scipy.special import chdtrc\n",
        "pval = chdtrc(9,5209.8781995523605)\n",
        "\n",
        "print(\"p value is :\",pval)\n",
        "if pval < 0.05 :\n",
        "  print(\"Rejecting null hypothesis\")\n",
        "\n",
        "else:\n",
        "  print(\"Accepting null hypothesis\")"
      ],
      "execution_count": null,
      "outputs": [
        {
          "output_type": "stream",
          "text": [
            "p value is : 0.0\n",
            "Rejecting null hypothesis\n"
          ],
          "name": "stdout"
        }
      ]
    },
    {
      "cell_type": "markdown",
      "metadata": {
        "id": "9h7hPAI22WU_"
      },
      "source": [
        "Since the p-value is less than significance Level(0.05), we reject the null hypothesis that `Accessibilty to LandMarks and Price Category are independent variables` and conclude that a significant `relation exists`. "
      ]
    },
    {
      "cell_type": "markdown",
      "metadata": {
        "id": "trs0xBsfgUDr"
      },
      "source": [
        "###Landmarks Vs Average Prices"
      ]
    },
    {
      "cell_type": "markdown",
      "metadata": {
        "id": "bpjKJzBc3TqB"
      },
      "source": [
        "Since we concluded that there is a relation between the Number of Landmarks and prices, and are dependant.\n",
        "\n",
        "We will now use Average Prices and the Total Number of Landmarks in each borough to further strengthen the conclusion above and deduce the correlation."
      ]
    },
    {
      "cell_type": "markdown",
      "metadata": {
        "id": "4gWI2o9-7y7M"
      },
      "source": [
        "####Null Hypothesis"
      ]
    },
    {
      "cell_type": "markdown",
      "metadata": {
        "id": "3fLL3uPt7CWO"
      },
      "source": [
        "In the following test, our hypotheses setting is the following:\n",
        "\n",
        "$H_0$: `Number Of Landmarks` and `Average Prices` are independent variables.\n",
        "\n",
        "$H_A$: `Number Of Landmarks` and `Average Prices` are **not** independent variables."
      ]
    },
    {
      "cell_type": "code",
      "metadata": {
        "id": "Qlx29J-dLMov",
        "outputId": "b99a4105-c94f-4da6-e732-d86c7e68ac04",
        "colab": {
          "base_uri": "https://localhost:8080/",
          "height": 310
        }
      },
      "source": [
        "sns.set_style(\"darkgrid\")\n",
        "plt.xlabel(\"Average Prices\")\n",
        "plt.ylabel(\"Number of Landmarks\")\n",
        "sns.scatterplot(x= ALL_avg, y= Num_p, data=df )\n",
        "print(\"Average Prices Vs Number of Landmarks\")"
      ],
      "execution_count": null,
      "outputs": [
        {
          "output_type": "stream",
          "text": [
            "Average Prices Vs Number of Landmarks\n"
          ],
          "name": "stdout"
        },
        {
          "output_type": "display_data",
          "data": {
            "image/png": "[encoded data removed]",
            "text/plain": [
              "<Figure size 432x288 with 1 Axes>"
            ]
          },
          "metadata": {
            "tags": []
          }
        }
      ]
    },
    {
      "cell_type": "code",
      "metadata": {
        "id": "WtqukfYsRAvB",
        "outputId": "881141a5-c856-4514-f71a-6bd4b44ee2c1",
        "colab": {
          "base_uri": "https://localhost:8080/",
          "height": 377
        }
      },
      "source": [
        "from scipy.stats import pearsonr\n",
        "sns.set(style='white', font_scale=1.2)\n",
        "print(\"Relation between Number of Landmarks and Price\")\n",
        "\n",
        "g = sns.JointGrid(data=df, x=ALL_avg, y=Num_p, xlim=(80, 200), ylim=(0, 1000), height=5)\n",
        "g = g.plot_joint(sns.regplot, color=\"xkcd:muted blue\")\n",
        "plt.grid()\n",
        "plt.xlabel(\"Average Price\")\n",
        "plt.ylabel(\"# of Landmarks\")\n",
        "plt.tight_layout()\n",
        "\n"
      ],
      "execution_count": null,
      "outputs": [
        {
          "output_type": "stream",
          "text": [
            "Relation between Number of Landmarks and Price\n"
          ],
          "name": "stdout"
        },
        {
          "output_type": "display_data",
          "data": {
            "image/png": "[encoded data removed]",
            "text/plain": [
              "<Figure size 360x360 with 3 Axes>"
            ]
          },
          "metadata": {
            "tags": []
          }
        }
      ]
    },
    {
      "cell_type": "markdown",
      "metadata": {
        "id": "gjZfuEwl5UnG"
      },
      "source": [
        "From the above extracted data we can use scipy.stats to calcualte the Correlation coefficient and the p-value of Number of Landmarks and Average Prices."
      ]
    },
    {
      "cell_type": "code",
      "metadata": {
        "id": "nOfjy2CwUVC-",
        "outputId": "4ef3a35a-52ad-4d18-be13-3670888efc44",
        "colab": {
          "base_uri": "https://localhost:8080/",
          "height": 51
        }
      },
      "source": [
        "import scipy.stats\n",
        "\n",
        "r, p = scipy.stats.pearsonr(ALL_avg, Num_p)\n",
        "print(\"Correlation Coefficient :\", r)\n",
        "print(\"P-Value :\", p)"
      ],
      "execution_count": null,
      "outputs": [
        {
          "output_type": "stream",
          "text": [
            "Correlation Coefficient : 0.9733728436134054\n",
            "P-Value : 0.005194919252609982\n"
          ],
          "name": "stdout"
        }
      ]
    },
    {
      "cell_type": "markdown",
      "metadata": {
        "id": "Nb_jNfxn5xi7"
      },
      "source": [
        "Above we have used Pearson's r value formula. And the value of r (Correlation Coefficient : 0.9733728436134054) is closer to 1 which signifies that these two variables (Number of Landmarks and Average Prices) are strongly and postively correlated.\n",
        "\n",
        "Moreover since the p-value is less than significance Level(0.05), we reject the null hypothesis that `Number of Landmarks and Average Prices are independent variables` and conclude that a significant `relation exists`."
      ]
    },
    {
      "cell_type": "markdown",
      "metadata": {
        "id": "bJFv5VsQghLF"
      },
      "source": [
        "###Number of Landmarks Vs Number of Listings)"
      ]
    },
    {
      "cell_type": "markdown",
      "metadata": {
        "id": "ab1OyGJS8hsh"
      },
      "source": [
        "Since we concluded that there is a relation between the Number of Landmarks and Number of Listings, in an above shown line graph.\n",
        "\n",
        "We will now use \n",
        "\n",
        "1)Correlation Coefficient\n",
        "\n",
        "2)P-Value\n",
        "\n",
        "to further strengthen the conclusion above and deduce the correlation."
      ]
    },
    {
      "cell_type": "markdown",
      "metadata": {
        "id": "n8mymKMO-J0N"
      },
      "source": [
        "In the following test, our hypotheses setting is the following:\n",
        "\n",
        "$H_0$: `Number Of Landmarks` and `Number of Listings` are **not** independent variables.\n",
        "\n",
        "$H_A$: `Number Of Landmarks` and `Number of Listings` are independent variables."
      ]
    },
    {
      "cell_type": "code",
      "metadata": {
        "id": "Z6BBrmCCeI5N",
        "outputId": "428096a0-9776-4733-8fc2-40820e25c214",
        "colab": {
          "base_uri": "https://localhost:8080/",
          "height": 377
        }
      },
      "source": [
        "from scipy.stats import pearsonr\n",
        "sns.set(style='white', font_scale=1.2)\n",
        "print(\"Relation between Number of Landmarks and Number of Listings\")\n",
        "\n",
        "g = sns.JointGrid(data=df, x=Num_listings_each, y=Num_p, xlim=(300, 22000 ), ylim=(0, 1000), height=5)\n",
        "g = g.plot_joint(sns.regplot, color=\"xkcd:muted blue\" )\n",
        "plt.grid()\n",
        "plt.xlabel(\"Listings per Borough\")\n",
        "plt.ylabel(\"# of Landmarks\")\n",
        "plt.tight_layout()"
      ],
      "execution_count": null,
      "outputs": [
        {
          "output_type": "stream",
          "text": [
            "Relation between Number of Landmarks and Number of Listings\n"
          ],
          "name": "stdout"
        },
        {
          "output_type": "display_data",
          "data": {
            "image/png": "[encoded data removed]",
            "text/plain": [
              "<Figure size 360x360 with 3 Axes>"
            ]
          },
          "metadata": {
            "tags": []
          }
        }
      ]
    },
    {
      "cell_type": "code",
      "metadata": {
        "id": "_zwZtbwTd_Zw",
        "outputId": "2b2aac5a-b7e7-42b0-f66e-d22a176fe978",
        "colab": {
          "base_uri": "https://localhost:8080/",
          "height": 51
        }
      },
      "source": [
        "r1, p1 = scipy.stats.pearsonr(Num_listings_each, Num_p)\n",
        "print(\"Correlation Coefficient :\", r1)\n",
        "print(\"P-Value :\", p1)"
      ],
      "execution_count": null,
      "outputs": [
        {
          "output_type": "stream",
          "text": [
            "Correlation Coefficient : 0.7140717017407588\n",
            "P-Value : 0.17545056900978978\n"
          ],
          "name": "stdout"
        }
      ]
    },
    {
      "cell_type": "markdown",
      "metadata": {
        "id": "xrVF-bJ-9kEn"
      },
      "source": [
        "Above we have used Pearson's r value formula. And the value of r (Correlation Coefficient : 0.7140717017407588) is closer to 1 which signifies that these two variables (Number of Landmarks and Number of Listings) are strongly and postively correlated.\n",
        "\n",
        "Moreover since the p-value is higher than significance Level(0.05), we accept the null hypothesis that `Number of Landmarks and Number of Listings are not independent variables` and conclude that a significant `relation exists`."
      ]
    },
    {
      "cell_type": "markdown",
      "metadata": {
        "id": "Xdhet1sgtQpb"
      },
      "source": [
        "##Machine Learning\n"
      ]
    },
    {
      "cell_type": "markdown",
      "metadata": {
        "id": "q7BuIPWlJuU3"
      },
      "source": [
        "We shall now use Machine Learing to detect patterns in our enhanced NYC dataset, and our goal is to use the data to develop models that we can use to predict future data like price ranges/categories.\n",
        "\n",
        "\n"
      ]
    },
    {
      "cell_type": "markdown",
      "metadata": {
        "id": "zerBTE4TvCt-"
      },
      "source": [
        "### Decision Tree"
      ]
    },
    {
      "cell_type": "markdown",
      "metadata": {
        "id": "eYk8AMUSJ6pp"
      },
      "source": [
        "Decision Tree is a popular classifier machine learning model which comes under the category of **\"Eager Learners\"**, because it first builds a classification model on the training dataset before being able to actually classify an unseen observation from test dataset.\n",
        "\n",
        "We are applying this model to our data set in which our target column is `Price Category Number` as created below.\n"
      ]
    },
    {
      "cell_type": "markdown",
      "metadata": {
        "id": "SEe33K7DXFpJ"
      },
      "source": [
        "Before we proceed,we need to convert  relevant categories to integers from string. Hence, we use **encoding** for this conversion.\n",
        "\n",
        "\n",
        "\n"
      ]
    },
    {
      "cell_type": "code",
      "metadata": {
        "id": "eEJ_jphZ89MY"
      },
      "source": [
        "df[\"Price Category Number\"] = df[\"Price Category \"].map({'Cheap': 0, 'Affordable': 1, 'Expensive':2, 'Luxurious': 3 })\n",
        "df[\"Accessibilty to LandMarks Numbers\"] = df[\"Accessibilty to LandMarks\"].map({'Low': 0, 'Moderate': 1, 'High':2, 'Best': 3 })"
      ],
      "execution_count": null,
      "outputs": []
    },
    {
      "cell_type": "code",
      "metadata": {
        "id": "FzKXV6fl9dlz",
        "outputId": "29f1f823-3785-4120-f8c0-0e5e8b8cb4d1",
        "colab": {
          "base_uri": "https://localhost:8080/",
          "height": 462
        }
      },
      "source": [
        "df.head(5)"
      ],
      "execution_count": null,
      "outputs": [
        {
          "output_type": "execute_result",
          "data": {
            "text/html": [
              "<div>\n",
              "<style scoped>\n",
              "    .dataframe tbody tr th:only-of-type {\n",
              "        vertical-align: middle;\n",
              "    }\n",
              "\n",
              "    .dataframe tbody tr th {\n",
              "        vertical-align: top;\n",
              "    }\n",
              "\n",
              "    .dataframe thead th {\n",
              "        text-align: right;\n",
              "    }\n",
              "</style>\n",
              "<table border=\"1\" class=\"dataframe\">\n",
              "  <thead>\n",
              "    <tr style=\"text-align: right;\">\n",
              "      <th></th>\n",
              "      <th>id</th>\n",
              "      <th>name</th>\n",
              "      <th>host_id</th>\n",
              "      <th>host_name</th>\n",
              "      <th>neighbourhood_group</th>\n",
              "      <th>neighbourhood</th>\n",
              "      <th>latitude</th>\n",
              "      <th>longitude</th>\n",
              "      <th>room_type</th>\n",
              "      <th>price</th>\n",
              "      <th>minimum_nights</th>\n",
              "      <th>number_of_reviews</th>\n",
              "      <th>last_review</th>\n",
              "      <th>reviews_per_month</th>\n",
              "      <th>calculated_host_listings_count</th>\n",
              "      <th>availability_365</th>\n",
              "      <th>Price Category</th>\n",
              "      <th>Review Category</th>\n",
              "      <th>Land Marks In Borough</th>\n",
              "      <th>Accessibilty to LandMarks</th>\n",
              "      <th>Price Category Number</th>\n",
              "      <th>Accessibilty to LandMarks Numbers</th>\n",
              "    </tr>\n",
              "  </thead>\n",
              "  <tbody>\n",
              "    <tr>\n",
              "      <th>0</th>\n",
              "      <td>2539</td>\n",
              "      <td>Clean &amp; quiet apt home by the park</td>\n",
              "      <td>2787</td>\n",
              "      <td>John</td>\n",
              "      <td>Brooklyn</td>\n",
              "      <td>Kensington</td>\n",
              "      <td>40.64749</td>\n",
              "      <td>-73.97237</td>\n",
              "      <td>Private room</td>\n",
              "      <td>149</td>\n",
              "      <td>1</td>\n",
              "      <td>9</td>\n",
              "      <td>2018-10-19</td>\n",
              "      <td>0.21</td>\n",
              "      <td>6</td>\n",
              "      <td>365</td>\n",
              "      <td>Expensive</td>\n",
              "      <td>Average</td>\n",
              "      <td>206</td>\n",
              "      <td>High</td>\n",
              "      <td>2</td>\n",
              "      <td>2</td>\n",
              "    </tr>\n",
              "    <tr>\n",
              "      <th>1</th>\n",
              "      <td>2595</td>\n",
              "      <td>Skylit Midtown Castle</td>\n",
              "      <td>2845</td>\n",
              "      <td>Jennifer</td>\n",
              "      <td>Manhattan</td>\n",
              "      <td>Midtown</td>\n",
              "      <td>40.75362</td>\n",
              "      <td>-73.98377</td>\n",
              "      <td>Entire home/apt</td>\n",
              "      <td>225</td>\n",
              "      <td>1</td>\n",
              "      <td>45</td>\n",
              "      <td>2019-05-21</td>\n",
              "      <td>0.38</td>\n",
              "      <td>2</td>\n",
              "      <td>355</td>\n",
              "      <td>Expensive</td>\n",
              "      <td>Good</td>\n",
              "      <td>959</td>\n",
              "      <td>Best</td>\n",
              "      <td>2</td>\n",
              "      <td>3</td>\n",
              "    </tr>\n",
              "    <tr>\n",
              "      <th>2</th>\n",
              "      <td>3647</td>\n",
              "      <td>THE VILLAGE OF HARLEM....NEW YORK !</td>\n",
              "      <td>4632</td>\n",
              "      <td>Elisabeth</td>\n",
              "      <td>Manhattan</td>\n",
              "      <td>Harlem</td>\n",
              "      <td>40.80902</td>\n",
              "      <td>-73.94190</td>\n",
              "      <td>Private room</td>\n",
              "      <td>150</td>\n",
              "      <td>3</td>\n",
              "      <td>0</td>\n",
              "      <td>NaN</td>\n",
              "      <td>NaN</td>\n",
              "      <td>1</td>\n",
              "      <td>365</td>\n",
              "      <td>Expensive</td>\n",
              "      <td>Low Rated</td>\n",
              "      <td>959</td>\n",
              "      <td>Best</td>\n",
              "      <td>2</td>\n",
              "      <td>3</td>\n",
              "    </tr>\n",
              "    <tr>\n",
              "      <th>3</th>\n",
              "      <td>3831</td>\n",
              "      <td>Cozy Entire Floor of Brownstone</td>\n",
              "      <td>4869</td>\n",
              "      <td>LisaRoxanne</td>\n",
              "      <td>Brooklyn</td>\n",
              "      <td>Clinton Hill</td>\n",
              "      <td>40.68514</td>\n",
              "      <td>-73.95976</td>\n",
              "      <td>Entire home/apt</td>\n",
              "      <td>89</td>\n",
              "      <td>1</td>\n",
              "      <td>270</td>\n",
              "      <td>2019-07-05</td>\n",
              "      <td>4.64</td>\n",
              "      <td>1</td>\n",
              "      <td>194</td>\n",
              "      <td>Affordable</td>\n",
              "      <td>Excellent</td>\n",
              "      <td>206</td>\n",
              "      <td>High</td>\n",
              "      <td>1</td>\n",
              "      <td>2</td>\n",
              "    </tr>\n",
              "    <tr>\n",
              "      <th>4</th>\n",
              "      <td>5022</td>\n",
              "      <td>Entire Apt: Spacious Studio/Loft by central park</td>\n",
              "      <td>7192</td>\n",
              "      <td>Laura</td>\n",
              "      <td>Manhattan</td>\n",
              "      <td>East Harlem</td>\n",
              "      <td>40.79851</td>\n",
              "      <td>-73.94399</td>\n",
              "      <td>Entire home/apt</td>\n",
              "      <td>80</td>\n",
              "      <td>10</td>\n",
              "      <td>9</td>\n",
              "      <td>2018-11-19</td>\n",
              "      <td>0.10</td>\n",
              "      <td>1</td>\n",
              "      <td>0</td>\n",
              "      <td>Affordable</td>\n",
              "      <td>Average</td>\n",
              "      <td>959</td>\n",
              "      <td>Best</td>\n",
              "      <td>1</td>\n",
              "      <td>3</td>\n",
              "    </tr>\n",
              "  </tbody>\n",
              "</table>\n",
              "</div>"
            ],
            "text/plain": [
              "     id  ... Accessibilty to LandMarks Numbers\n",
              "0  2539  ...                                 2\n",
              "1  2595  ...                                 3\n",
              "2  3647  ...                                 3\n",
              "3  3831  ...                                 2\n",
              "4  5022  ...                                 3\n",
              "\n",
              "[5 rows x 22 columns]"
            ]
          },
          "metadata": {
            "tags": []
          },
          "execution_count": 331
        }
      ]
    },
    {
      "cell_type": "markdown",
      "metadata": {
        "id": "ABOSdO3Th6jx"
      },
      "source": [
        "We made a copy of the actual data set and removed the columns which contain strings."
      ]
    },
    {
      "cell_type": "code",
      "metadata": {
        "id": "Q2bt-3n4GwED",
        "outputId": "8bef1d0c-1b5d-415e-b1f4-3bedde02e8db",
        "colab": {
          "base_uri": "https://localhost:8080/",
          "height": 275
        }
      },
      "source": [
        "df_c=df.copy()\n",
        "df_c = df_c.drop(\"name\", axis=1)\n",
        "df_c = df_c.drop(\"host_name\", axis=1)\n",
        "df_c = df_c.drop(\"neighbourhood_group\", axis=1)\n",
        "df_c = df_c.drop(\"neighbourhood\", axis=1)\n",
        "df_c = df_c.drop(\"room_type\", axis=1)\n",
        "df_c = df_c.drop(\"last_review\", axis=1)\n",
        "df_c = df_c.drop(\"Price Category \", axis=1)\n",
        "df_c = df_c.drop(\"Review Category \", axis=1)\n",
        "df_c = df_c.drop(\"Accessibilty to LandMarks\", axis=1)\n",
        "df_c = df_c.drop(\"reviews_per_month\", axis=1)\n",
        "\n",
        "\n",
        " \n",
        "\n",
        "df_c.head(5)"
      ],
      "execution_count": null,
      "outputs": [
        {
          "output_type": "execute_result",
          "data": {
            "text/html": [
              "<div>\n",
              "<style scoped>\n",
              "    .dataframe tbody tr th:only-of-type {\n",
              "        vertical-align: middle;\n",
              "    }\n",
              "\n",
              "    .dataframe tbody tr th {\n",
              "        vertical-align: top;\n",
              "    }\n",
              "\n",
              "    .dataframe thead th {\n",
              "        text-align: right;\n",
              "    }\n",
              "</style>\n",
              "<table border=\"1\" class=\"dataframe\">\n",
              "  <thead>\n",
              "    <tr style=\"text-align: right;\">\n",
              "      <th></th>\n",
              "      <th>id</th>\n",
              "      <th>host_id</th>\n",
              "      <th>latitude</th>\n",
              "      <th>longitude</th>\n",
              "      <th>price</th>\n",
              "      <th>minimum_nights</th>\n",
              "      <th>number_of_reviews</th>\n",
              "      <th>calculated_host_listings_count</th>\n",
              "      <th>availability_365</th>\n",
              "      <th>Land Marks In Borough</th>\n",
              "      <th>Price Category Number</th>\n",
              "      <th>Accessibilty to LandMarks Numbers</th>\n",
              "    </tr>\n",
              "  </thead>\n",
              "  <tbody>\n",
              "    <tr>\n",
              "      <th>0</th>\n",
              "      <td>2539</td>\n",
              "      <td>2787</td>\n",
              "      <td>40.64749</td>\n",
              "      <td>-73.97237</td>\n",
              "      <td>149</td>\n",
              "      <td>1</td>\n",
              "      <td>9</td>\n",
              "      <td>6</td>\n",
              "      <td>365</td>\n",
              "      <td>206</td>\n",
              "      <td>2</td>\n",
              "      <td>2</td>\n",
              "    </tr>\n",
              "    <tr>\n",
              "      <th>1</th>\n",
              "      <td>2595</td>\n",
              "      <td>2845</td>\n",
              "      <td>40.75362</td>\n",
              "      <td>-73.98377</td>\n",
              "      <td>225</td>\n",
              "      <td>1</td>\n",
              "      <td>45</td>\n",
              "      <td>2</td>\n",
              "      <td>355</td>\n",
              "      <td>959</td>\n",
              "      <td>2</td>\n",
              "      <td>3</td>\n",
              "    </tr>\n",
              "    <tr>\n",
              "      <th>2</th>\n",
              "      <td>3647</td>\n",
              "      <td>4632</td>\n",
              "      <td>40.80902</td>\n",
              "      <td>-73.94190</td>\n",
              "      <td>150</td>\n",
              "      <td>3</td>\n",
              "      <td>0</td>\n",
              "      <td>1</td>\n",
              "      <td>365</td>\n",
              "      <td>959</td>\n",
              "      <td>2</td>\n",
              "      <td>3</td>\n",
              "    </tr>\n",
              "    <tr>\n",
              "      <th>3</th>\n",
              "      <td>3831</td>\n",
              "      <td>4869</td>\n",
              "      <td>40.68514</td>\n",
              "      <td>-73.95976</td>\n",
              "      <td>89</td>\n",
              "      <td>1</td>\n",
              "      <td>270</td>\n",
              "      <td>1</td>\n",
              "      <td>194</td>\n",
              "      <td>206</td>\n",
              "      <td>1</td>\n",
              "      <td>2</td>\n",
              "    </tr>\n",
              "    <tr>\n",
              "      <th>4</th>\n",
              "      <td>5022</td>\n",
              "      <td>7192</td>\n",
              "      <td>40.79851</td>\n",
              "      <td>-73.94399</td>\n",
              "      <td>80</td>\n",
              "      <td>10</td>\n",
              "      <td>9</td>\n",
              "      <td>1</td>\n",
              "      <td>0</td>\n",
              "      <td>959</td>\n",
              "      <td>1</td>\n",
              "      <td>3</td>\n",
              "    </tr>\n",
              "  </tbody>\n",
              "</table>\n",
              "</div>"
            ],
            "text/plain": [
              "     id  host_id  ...  Price Category Number  Accessibilty to LandMarks Numbers\n",
              "0  2539     2787  ...                      2                                  2\n",
              "1  2595     2845  ...                      2                                  3\n",
              "2  3647     4632  ...                      2                                  3\n",
              "3  3831     4869  ...                      1                                  2\n",
              "4  5022     7192  ...                      1                                  3\n",
              "\n",
              "[5 rows x 12 columns]"
            ]
          },
          "metadata": {
            "tags": []
          },
          "execution_count": 332
        }
      ]
    },
    {
      "cell_type": "markdown",
      "metadata": {
        "id": "NwYRVa4vX7mQ"
      },
      "source": [
        "Here, we specify the feature and target columns:"
      ]
    },
    {
      "cell_type": "code",
      "metadata": {
        "id": "WPMlSfkt90kv"
      },
      "source": [
        "x = df_c.drop(\"Price Category Number\", axis = 1)\n",
        "y= df_c[\"Price Category Number\"]   "
      ],
      "execution_count": null,
      "outputs": []
    },
    {
      "cell_type": "markdown",
      "metadata": {
        "id": "bW9Gh41fYIZ8"
      },
      "source": [
        "We decide on the **evalution metrics and split** the data into 80% train and 20% test because it is a commmon practice to divide data in these ratios."
      ]
    },
    {
      "cell_type": "code",
      "metadata": {
        "id": "OKn5MHtd-BI0"
      },
      "source": [
        "from sklearn.model_selection import train_test_split\n",
        "x_train, x_test, y_train, y_test = train_test_split(x, y, random_state=1, test_size=0.20)"
      ],
      "execution_count": null,
      "outputs": []
    },
    {
      "cell_type": "code",
      "metadata": {
        "id": "KjPAjv33-PEE",
        "outputId": "d5d8289c-0b55-43ed-e809-b01d2d637ed8",
        "colab": {
          "base_uri": "https://localhost:8080/",
          "height": 34
        }
      },
      "source": [
        "print(x_train.shape, x_test.shape)\n"
      ],
      "execution_count": null,
      "outputs": [
        {
          "output_type": "stream",
          "text": [
            "(39116, 11) (9779, 11)\n"
          ],
          "name": "stdout"
        }
      ]
    },
    {
      "cell_type": "markdown",
      "metadata": {
        "id": "n8d2ib5CZHGE"
      },
      "source": [
        "Here, for **model A** , we apply the decision tree model to our data with   **hyperparameters** set to default:"
      ]
    },
    {
      "cell_type": "code",
      "metadata": {
        "id": "z3Zc02si-XL_",
        "outputId": "0112628e-391f-431e-b3d2-539ef6044dd0",
        "colab": {
          "base_uri": "https://localhost:8080/",
          "height": 119
        }
      },
      "source": [
        "from sklearn import tree\n",
        "\n",
        "model_dt_Pc = tree.DecisionTreeClassifier() #Create decision tree classifier object\n",
        "model_dt_Pc.fit(x_train, y_train)"
      ],
      "execution_count": null,
      "outputs": [
        {
          "output_type": "execute_result",
          "data": {
            "text/plain": [
              "DecisionTreeClassifier(ccp_alpha=0.0, class_weight=None, criterion='gini',\n",
              "                       max_depth=None, max_features=None, max_leaf_nodes=None,\n",
              "                       min_impurity_decrease=0.0, min_impurity_split=None,\n",
              "                       min_samples_leaf=1, min_samples_split=2,\n",
              "                       min_weight_fraction_leaf=0.0, presort='deprecated',\n",
              "                       random_state=None, splitter='best')"
            ]
          },
          "metadata": {
            "tags": []
          },
          "execution_count": 336
        }
      ]
    },
    {
      "cell_type": "markdown",
      "metadata": {
        "id": "QSIO_ohDZd8r"
      },
      "source": [
        "Determing the **accuracy score** on model A:"
      ]
    },
    {
      "cell_type": "code",
      "metadata": {
        "id": "DcXRRc8oJdXo",
        "outputId": "8e23651c-071a-4651-e56a-dfd30c717ad6",
        "colab": {
          "base_uri": "https://localhost:8080/",
          "height": 51
        }
      },
      "source": [
        "from sklearn.model_selection import cross_val_score\n",
        "from sklearn.metrics import accuracy_score\n",
        "\n",
        "X_train = pd.DataFrame(x_train)\n",
        "X_test = pd.DataFrame(x_test) \n",
        "y_train = pd.DataFrame(y_train) \n",
        "y_test = pd.DataFrame(y_test)\n",
        "\n",
        "\n",
        "train_pred_1 = model_dt_Pc.predict(X_train)\n",
        "train_acc_1 = accuracy_score(y_train, train_pred_1)\n",
        "print(\"Accuracy of train Model A: \" ,train_acc_1)\n",
        "\n",
        "test_pred_1 = model_dt_Pc.predict(X_test)\n",
        "test_acc_1 = accuracy_score(y_test, test_pred_1)\n",
        "print(\"Accuracy of test Model A: \",test_acc_1)\n",
        "\n",
        "\n"
      ],
      "execution_count": null,
      "outputs": [
        {
          "output_type": "stream",
          "text": [
            "Accuracy of train Model A:  1.0\n",
            "Accuracy of test Model A:  1.0\n"
          ],
          "name": "stdout"
        }
      ]
    },
    {
      "cell_type": "markdown",
      "metadata": {
        "id": "Ol19hoHuZr8U"
      },
      "source": [
        "The accuracy score indicates maximum accuracy for both train and test data in model A.This is **improbable and unrealistic** and depicts an **error** while determining our features and/or target columns."
      ]
    },
    {
      "cell_type": "markdown",
      "metadata": {
        "id": "eN8jtEZ_vjoW"
      },
      "source": [
        "We **detected** that in model A while selecting features, we had included the `price` column and this gave the model extra information to predict the future outcomes easily.In the following codes, we drop the `price` column and construct another machine learning model:"
      ]
    },
    {
      "cell_type": "code",
      "metadata": {
        "id": "GVsE8Abivixy",
        "outputId": "31079392-c64a-4835-da70-331efdff79cc",
        "colab": {
          "base_uri": "https://localhost:8080/",
          "height": 275
        }
      },
      "source": [
        "df_c = df_c.drop(\"price\", axis=1)\n",
        "df_c.head(5)"
      ],
      "execution_count": null,
      "outputs": [
        {
          "output_type": "execute_result",
          "data": {
            "text/html": [
              "<div>\n",
              "<style scoped>\n",
              "    .dataframe tbody tr th:only-of-type {\n",
              "        vertical-align: middle;\n",
              "    }\n",
              "\n",
              "    .dataframe tbody tr th {\n",
              "        vertical-align: top;\n",
              "    }\n",
              "\n",
              "    .dataframe thead th {\n",
              "        text-align: right;\n",
              "    }\n",
              "</style>\n",
              "<table border=\"1\" class=\"dataframe\">\n",
              "  <thead>\n",
              "    <tr style=\"text-align: right;\">\n",
              "      <th></th>\n",
              "      <th>id</th>\n",
              "      <th>host_id</th>\n",
              "      <th>latitude</th>\n",
              "      <th>longitude</th>\n",
              "      <th>minimum_nights</th>\n",
              "      <th>number_of_reviews</th>\n",
              "      <th>calculated_host_listings_count</th>\n",
              "      <th>availability_365</th>\n",
              "      <th>Land Marks In Borough</th>\n",
              "      <th>Price Category Number</th>\n",
              "      <th>Accessibilty to LandMarks Numbers</th>\n",
              "    </tr>\n",
              "  </thead>\n",
              "  <tbody>\n",
              "    <tr>\n",
              "      <th>0</th>\n",
              "      <td>2539</td>\n",
              "      <td>2787</td>\n",
              "      <td>40.64749</td>\n",
              "      <td>-73.97237</td>\n",
              "      <td>1</td>\n",
              "      <td>9</td>\n",
              "      <td>6</td>\n",
              "      <td>365</td>\n",
              "      <td>206</td>\n",
              "      <td>2</td>\n",
              "      <td>2</td>\n",
              "    </tr>\n",
              "    <tr>\n",
              "      <th>1</th>\n",
              "      <td>2595</td>\n",
              "      <td>2845</td>\n",
              "      <td>40.75362</td>\n",
              "      <td>-73.98377</td>\n",
              "      <td>1</td>\n",
              "      <td>45</td>\n",
              "      <td>2</td>\n",
              "      <td>355</td>\n",
              "      <td>959</td>\n",
              "      <td>2</td>\n",
              "      <td>3</td>\n",
              "    </tr>\n",
              "    <tr>\n",
              "      <th>2</th>\n",
              "      <td>3647</td>\n",
              "      <td>4632</td>\n",
              "      <td>40.80902</td>\n",
              "      <td>-73.94190</td>\n",
              "      <td>3</td>\n",
              "      <td>0</td>\n",
              "      <td>1</td>\n",
              "      <td>365</td>\n",
              "      <td>959</td>\n",
              "      <td>2</td>\n",
              "      <td>3</td>\n",
              "    </tr>\n",
              "    <tr>\n",
              "      <th>3</th>\n",
              "      <td>3831</td>\n",
              "      <td>4869</td>\n",
              "      <td>40.68514</td>\n",
              "      <td>-73.95976</td>\n",
              "      <td>1</td>\n",
              "      <td>270</td>\n",
              "      <td>1</td>\n",
              "      <td>194</td>\n",
              "      <td>206</td>\n",
              "      <td>1</td>\n",
              "      <td>2</td>\n",
              "    </tr>\n",
              "    <tr>\n",
              "      <th>4</th>\n",
              "      <td>5022</td>\n",
              "      <td>7192</td>\n",
              "      <td>40.79851</td>\n",
              "      <td>-73.94399</td>\n",
              "      <td>10</td>\n",
              "      <td>9</td>\n",
              "      <td>1</td>\n",
              "      <td>0</td>\n",
              "      <td>959</td>\n",
              "      <td>1</td>\n",
              "      <td>3</td>\n",
              "    </tr>\n",
              "  </tbody>\n",
              "</table>\n",
              "</div>"
            ],
            "text/plain": [
              "     id  host_id  ...  Price Category Number  Accessibilty to LandMarks Numbers\n",
              "0  2539     2787  ...                      2                                  2\n",
              "1  2595     2845  ...                      2                                  3\n",
              "2  3647     4632  ...                      2                                  3\n",
              "3  3831     4869  ...                      1                                  2\n",
              "4  5022     7192  ...                      1                                  3\n",
              "\n",
              "[5 rows x 11 columns]"
            ]
          },
          "metadata": {
            "tags": []
          },
          "execution_count": 338
        }
      ]
    },
    {
      "cell_type": "code",
      "metadata": {
        "id": "yT2fTks0v6P5"
      },
      "source": [
        "x = df_c.drop(\"Price Category Number\", axis = 1)\n",
        "y= df_c[\"Price Category Number\"] "
      ],
      "execution_count": null,
      "outputs": []
    },
    {
      "cell_type": "markdown",
      "metadata": {
        "id": "Rr6KYqkSbsuR"
      },
      "source": [
        "**Model B** with **hyperparameters set to default and the same split** as model A:"
      ]
    },
    {
      "cell_type": "code",
      "metadata": {
        "id": "4mfl9VIwwCJY"
      },
      "source": [
        "from sklearn.model_selection import train_test_split\n",
        "x_train, x_test, y_train, y_test = train_test_split(x, y, random_state=1, test_size=0.20)"
      ],
      "execution_count": null,
      "outputs": []
    },
    {
      "cell_type": "code",
      "metadata": {
        "id": "ga4_krunwGEo",
        "outputId": "b4da8a6d-2490-4cfa-904d-6c2f46f8c3d1",
        "colab": {
          "base_uri": "https://localhost:8080/",
          "height": 34
        }
      },
      "source": [
        "print(x_train.shape, x_test.shape)"
      ],
      "execution_count": null,
      "outputs": [
        {
          "output_type": "stream",
          "text": [
            "(39116, 10) (9779, 10)\n"
          ],
          "name": "stdout"
        }
      ]
    },
    {
      "cell_type": "code",
      "metadata": {
        "id": "rtDQ-hlUwKcD",
        "outputId": "e310c11d-5e9c-4ea5-cf31-0f0187c6c449",
        "colab": {
          "base_uri": "https://localhost:8080/",
          "height": 119
        }
      },
      "source": [
        "from sklearn import tree\n",
        "\n",
        "model_dt_Pc = tree.DecisionTreeClassifier() #Create decision tree classifier object\n",
        "model_dt_Pc.fit(x_train, y_train)"
      ],
      "execution_count": null,
      "outputs": [
        {
          "output_type": "execute_result",
          "data": {
            "text/plain": [
              "DecisionTreeClassifier(ccp_alpha=0.0, class_weight=None, criterion='gini',\n",
              "                       max_depth=None, max_features=None, max_leaf_nodes=None,\n",
              "                       min_impurity_decrease=0.0, min_impurity_split=None,\n",
              "                       min_samples_leaf=1, min_samples_split=2,\n",
              "                       min_weight_fraction_leaf=0.0, presort='deprecated',\n",
              "                       random_state=None, splitter='best')"
            ]
          },
          "metadata": {
            "tags": []
          },
          "execution_count": 342
        }
      ]
    },
    {
      "cell_type": "code",
      "metadata": {
        "id": "j9cznAfiwOB0",
        "outputId": "8df59932-5d42-4a34-e6e2-b75c2d85eed1",
        "colab": {
          "base_uri": "https://localhost:8080/",
          "height": 51
        }
      },
      "source": [
        "from sklearn.model_selection import cross_val_score\n",
        "from sklearn.metrics import accuracy_score\n",
        "\n",
        "X_train = pd.DataFrame(x_train)\n",
        "X_test = pd.DataFrame(x_test) \n",
        "y_train = pd.DataFrame(y_train) \n",
        "y_test = pd.DataFrame(y_test)\n",
        "\n",
        "\n",
        "train_pred_1 = model_dt_Pc.predict(X_train)\n",
        "train_acc_1 = accuracy_score(y_train, train_pred_1)\n",
        "print(\"Accuracy of train Model B: \" ,train_acc_1)\n",
        "\n",
        "test_pred_1 = model_dt_Pc.predict(X_test)\n",
        "test_acc_1 = accuracy_score(y_test, test_pred_1)\n",
        "print(\"Accuracy of test Model B: \",test_acc_1)\n",
        "\n"
      ],
      "execution_count": null,
      "outputs": [
        {
          "output_type": "stream",
          "text": [
            "Accuracy of train Model B:  1.0\n",
            "Accuracy of test Model B:  0.633704877799366\n"
          ],
          "name": "stdout"
        }
      ]
    },
    {
      "cell_type": "markdown",
      "metadata": {
        "id": "D2j5XHi0ofr0"
      },
      "source": [
        "Accuracy of train model B is 1.0 while there is a drop in the accuracy value the test data , showing an **improvement** on our previous model A.\n",
        "\n",
        "However, the difference between the accuracy scores of train and test data is significant which indicates **over-fitting**  and we need to adjust the hyperparameteres."
      ]
    },
    {
      "cell_type": "markdown",
      "metadata": {
        "id": "YJOoeb_lc3JY"
      },
      "source": [
        "| | Model A | Model B |\n",
        "|---|---|---|\n",
        "|Train| 1.0| 1.0 |\n",
        "|Test| 1.0| 0.63|"
      ]
    },
    {
      "cell_type": "markdown",
      "metadata": {
        "id": "XCjFinV6illN"
      },
      "source": [
        "For determining the most accurate possible hyperparameter values for  **min_sample_leaf**  and **max-depth** we test the values for a **range of 10** values for each parameter.\n",
        "\n",
        "The **i** values represent  **min_sample_leaf** value\n",
        "The **j** values represent  **min_sample_leaf** value\n",
        "\n",
        "Further more the **difference the test and train accuracy values** obtained for each pair of i and j are printed below.The difference values are later used to to selected the best candidate pair for hyperparameters **to avoid over-fitting **to as best as possible.\n",
        "\n",
        "The following code represents hyperparameter tuning by trial and error:\n",
        "\n",
        "\n"
      ]
    },
    {
      "cell_type": "code",
      "metadata": {
        "id": "3UxcWs35CAy9",
        "outputId": "30c8b44d-02b7-468a-fffb-770129b044dc",
        "colab": {
          "base_uri": "https://localhost:8080/",
          "height": 1000
        }
      },
      "source": [
        "from sklearn.model_selection import cross_val_score\n",
        "from sklearn.metrics import accuracy_score\n",
        "i = 1\n",
        "j = 1\n",
        "maxim = 0\n",
        "maxim1 = 0\n",
        "bleaf= 0\n",
        "bdepth = 0\n",
        "difference = 100\n",
        "for i in range(10):\n",
        "  i = i +1\n",
        "  for j in range(10):\n",
        "    j = j +1\n",
        "    model_dt_Pc_trial = tree.DecisionTreeClassifier(min_samples_leaf = i, max_depth = j) #Create decision tree classifier object\n",
        "    model_dt_Pc_trial.fit(x_train, y_train)\n",
        "    \n",
        "\n",
        "    X_traintrial = pd.DataFrame(x_train)\n",
        "    X_testtrial = pd.DataFrame(x_test) \n",
        "    y_traintrial = pd.DataFrame(y_train) \n",
        "    y_testtrial = pd.DataFrame(y_test)\n",
        "\n",
        "\n",
        "    train_pred_1_btrial = model_dt_Pc_trial.predict(X_traintrial)\n",
        "    train_acc_1_btrial = accuracy_score(y_traintrial, train_pred_1_btrial)\n",
        "    print(\"Accuracy of train i = \", i, \" j = \", j , \"=\" ,train_acc_1_btrial)\n",
        "\n",
        "    test_pred_1_btrial = model_dt_Pc_trial.predict(X_testtrial)\n",
        "    test_acc_1_btrial = accuracy_score(y_testtrial, test_pred_1_btrial)\n",
        "    print(\"Accuracy of test Model C: \",test_acc_1_btrial)\n",
        "\n",
        "    diff = train_acc_1_btrial - test_acc_1_btrial\n",
        "    print(\"Diff =  \",diff)\n",
        "    print(\"--------------------------------\")\n",
        "    if train_acc_1_btrial > maxim:\n",
        "      maxim = train_acc_1_btrial\n",
        "    if test_acc_1_btrial > maxim1:\n",
        "      maxim1 = test_acc_1_btrial\n",
        "    if diff < difference:\n",
        "      difference = diff\n",
        "      bleaf = i\n",
        "      bdepth = j\n",
        "\n",
        "print(\"The highest train = \", maxim) \n",
        "print(\"The highest test = \", maxim1) \n",
        "print(\"The least diff, leaf =\", bleaf, \" depth =\", bdepth)"
      ],
      "execution_count": null,
      "outputs": [
        {
          "output_type": "stream",
          "text": [
            "Accuracy of train i =  1  j =  1 = 0.6454903364352184\n",
            "Accuracy of test Model C:  0.6429082728295327\n",
            "Diff =   0.0025820636056856916\n",
            "--------------------------------\n",
            "Accuracy of train i =  1  j =  2 = 0.6596277738010021\n",
            "Accuracy of test Model C:  0.6573269250434605\n",
            "Diff =   0.0023008487575416625\n",
            "--------------------------------\n",
            "Accuracy of train i =  1  j =  3 = 0.6698026383065753\n",
            "Accuracy of test Model C:  0.6721546170365068\n",
            "Diff =   -0.0023519787299315364\n",
            "--------------------------------\n",
            "Accuracy of train i =  1  j =  4 = 0.6861386644851212\n",
            "Accuracy of test Model C:  0.6816647919010124\n",
            "Diff =   0.004473872584108807\n",
            "--------------------------------\n",
            "Accuracy of train i =  1  j =  5 = 0.6885162082012476\n",
            "Accuracy of test Model C:  0.6823806115144698\n",
            "Diff =   0.006135596686777767\n",
            "--------------------------------\n",
            "Accuracy of train i =  1  j =  6 = 0.6942938950812967\n",
            "Accuracy of test Model C:  0.6860619695265364\n",
            "Diff =   0.008231925554760267\n",
            "--------------------------------\n",
            "Accuracy of train i =  1  j =  7 = 0.702193475815523\n",
            "Accuracy of test Model C:  0.6913794866550772\n",
            "Diff =   0.010813989160445847\n",
            "--------------------------------\n",
            "Accuracy of train i =  1  j =  8 = 0.7108344411494018\n",
            "Accuracy of test Model C:  0.6931179057163309\n",
            "Diff =   0.017716535433070835\n",
            "--------------------------------\n",
            "Accuracy of train i =  1  j =  9 = 0.7245117087636773\n",
            "Accuracy of test Model C:  0.6953676245014828\n",
            "Diff =   0.029144084262194503\n",
            "--------------------------------\n",
            "Accuracy of train i =  1  j =  10 = 0.7391604458533593\n",
            "Accuracy of test Model C:  0.6914817465998568\n",
            "Diff =   0.04767869925350243\n",
            "--------------------------------\n",
            "Accuracy of train i =  2  j =  1 = 0.6454903364352184\n",
            "Accuracy of test Model C:  0.6429082728295327\n",
            "Diff =   0.0025820636056856916\n",
            "--------------------------------\n",
            "Accuracy of train i =  2  j =  2 = 0.6596277738010021\n",
            "Accuracy of test Model C:  0.6573269250434605\n",
            "Diff =   0.0023008487575416625\n",
            "--------------------------------\n",
            "Accuracy of train i =  2  j =  3 = 0.6698026383065753\n",
            "Accuracy of test Model C:  0.6721546170365068\n",
            "Diff =   -0.0023519787299315364\n",
            "--------------------------------\n",
            "Accuracy of train i =  2  j =  4 = 0.6861386644851212\n",
            "Accuracy of test Model C:  0.6816647919010124\n",
            "Diff =   0.004473872584108807\n",
            "--------------------------------\n",
            "Accuracy of train i =  2  j =  5 = 0.6885162082012476\n",
            "Accuracy of test Model C:  0.6823806115144698\n",
            "Diff =   0.006135596686777767\n",
            "--------------------------------\n",
            "Accuracy of train i =  2  j =  6 = 0.6942427651089068\n",
            "Accuracy of test Model C:  0.6861642294713161\n",
            "Diff =   0.008078535637590756\n",
            "--------------------------------\n",
            "Accuracy of train i =  2  j =  7 = 0.7021167808569383\n",
            "Accuracy of test Model C:  0.6914817465998568\n",
            "Diff =   0.010635034257081455\n",
            "--------------------------------\n",
            "Accuracy of train i =  2  j =  8 = 0.7105532263012578\n",
            "Accuracy of test Model C:  0.6927088659372124\n",
            "Diff =   0.017844360364045464\n",
            "--------------------------------\n",
            "Accuracy of train i =  2  j =  9 = 0.7238214541364147\n",
            "Accuracy of test Model C:  0.6951631046119235\n",
            "Diff =   0.0286583495244912\n",
            "--------------------------------\n",
            "Accuracy of train i =  2  j =  10 = 0.7378821965436139\n",
            "Accuracy of test Model C:  0.6901523673177217\n",
            "Diff =   0.047729829225892195\n",
            "--------------------------------\n",
            "Accuracy of train i =  3  j =  1 = 0.6454903364352184\n",
            "Accuracy of test Model C:  0.6429082728295327\n",
            "Diff =   0.0025820636056856916\n",
            "--------------------------------\n",
            "Accuracy of train i =  3  j =  2 = 0.6596277738010021\n",
            "Accuracy of test Model C:  0.6573269250434605\n",
            "Diff =   0.0023008487575416625\n",
            "--------------------------------\n",
            "Accuracy of train i =  3  j =  3 = 0.6698026383065753\n",
            "Accuracy of test Model C:  0.6721546170365068\n",
            "Diff =   -0.0023519787299315364\n",
            "--------------------------------\n",
            "Accuracy of train i =  3  j =  4 = 0.6861386644851212\n",
            "Accuracy of test Model C:  0.6816647919010124\n",
            "Diff =   0.004473872584108807\n",
            "--------------------------------\n",
            "Accuracy of train i =  3  j =  5 = 0.6885162082012476\n",
            "Accuracy of test Model C:  0.6823806115144698\n",
            "Diff =   0.006135596686777767\n",
            "--------------------------------\n",
            "Accuracy of train i =  3  j =  6 = 0.6942172001227119\n",
            "Accuracy of test Model C:  0.6861642294713161\n",
            "Diff =   0.008052970651395874\n",
            "--------------------------------\n",
            "Accuracy of train i =  3  j =  7 = 0.7019122609673791\n",
            "Accuracy of test Model C:  0.6914817465998568\n",
            "Diff =   0.010430514367522292\n",
            "--------------------------------\n",
            "Accuracy of train i =  3  j =  8 = 0.7100674915635545\n",
            "Accuracy of test Model C:  0.6933224256058902\n",
            "Diff =   0.01674506595766434\n",
            "--------------------------------\n",
            "Accuracy of train i =  3  j =  9 = 0.723207894467737\n",
            "Accuracy of test Model C:  0.694754064832805\n",
            "Diff =   0.028453829634932037\n",
            "--------------------------------\n",
            "Accuracy of train i =  3  j =  10 = 0.7368084671234277\n",
            "Accuracy of test Model C:  0.6898455874833828\n",
            "Diff =   0.046962879640044974\n",
            "--------------------------------\n",
            "Accuracy of train i =  4  j =  1 = 0.6454903364352184\n",
            "Accuracy of test Model C:  0.6429082728295327\n",
            "Diff =   0.0025820636056856916\n",
            "--------------------------------\n",
            "Accuracy of train i =  4  j =  2 = 0.6596277738010021\n",
            "Accuracy of test Model C:  0.6573269250434605\n",
            "Diff =   0.0023008487575416625\n",
            "--------------------------------\n",
            "Accuracy of train i =  4  j =  3 = 0.6698026383065753\n",
            "Accuracy of test Model C:  0.6721546170365068\n",
            "Diff =   -0.0023519787299315364\n",
            "--------------------------------\n",
            "Accuracy of train i =  4  j =  4 = 0.6861386644851212\n",
            "Accuracy of test Model C:  0.6816647919010124\n",
            "Diff =   0.004473872584108807\n",
            "--------------------------------\n",
            "Accuracy of train i =  4  j =  5 = 0.6885162082012476\n",
            "Accuracy of test Model C:  0.6823806115144698\n",
            "Diff =   0.006135596686777767\n",
            "--------------------------------\n",
            "Accuracy of train i =  4  j =  6 = 0.6942172001227119\n",
            "Accuracy of test Model C:  0.6861642294713161\n",
            "Diff =   0.008052970651395874\n",
            "--------------------------------\n",
            "Accuracy of train i =  4  j =  7 = 0.7017844360364045\n",
            "Accuracy of test Model C:  0.6910727068207383\n",
            "Diff =   0.01071172921566621\n",
            "--------------------------------\n",
            "Accuracy of train i =  4  j =  8 = 0.70993966663258\n",
            "Accuracy of test Model C:  0.6922998261580938\n",
            "Diff =   0.01763984047448619\n",
            "--------------------------------\n",
            "Accuracy of train i =  4  j =  9 = 0.7226965947438388\n",
            "Accuracy of test Model C:  0.6946518048880254\n",
            "Diff =   0.02804478985581349\n",
            "--------------------------------\n",
            "Accuracy of train i =  4  j =  10 = 0.7352234379793435\n",
            "Accuracy of test Model C:  0.6896410675938235\n",
            "Diff =   0.045582370385520043\n",
            "--------------------------------\n",
            "Accuracy of train i =  5  j =  1 = 0.6454903364352184\n",
            "Accuracy of test Model C:  0.6429082728295327\n",
            "Diff =   0.0025820636056856916\n",
            "--------------------------------\n",
            "Accuracy of train i =  5  j =  2 = 0.6596277738010021\n",
            "Accuracy of test Model C:  0.6573269250434605\n",
            "Diff =   0.0023008487575416625\n",
            "--------------------------------\n",
            "Accuracy of train i =  5  j =  3 = 0.6698026383065753\n",
            "Accuracy of test Model C:  0.6721546170365068\n",
            "Diff =   -0.0023519787299315364\n",
            "--------------------------------\n",
            "Accuracy of train i =  5  j =  4 = 0.6861386644851212\n",
            "Accuracy of test Model C:  0.6816647919010124\n",
            "Diff =   0.004473872584108807\n",
            "--------------------------------\n",
            "Accuracy of train i =  5  j =  5 = 0.6885162082012476\n",
            "Accuracy of test Model C:  0.6823806115144698\n",
            "Diff =   0.006135596686777767\n",
            "--------------------------------\n",
            "Accuracy of train i =  5  j =  6 = 0.6942172001227119\n",
            "Accuracy of test Model C:  0.6862664894160957\n",
            "Diff =   0.007950710706616237\n",
            "--------------------------------\n",
            "Accuracy of train i =  5  j =  7 = 0.7017333060640147\n",
            "Accuracy of test Model C:  0.6912772267102976\n",
            "Diff =   0.010456079353717174\n",
            "--------------------------------\n",
            "Accuracy of train i =  5  j =  8 = 0.7098118417016055\n",
            "Accuracy of test Model C:  0.6925043460476531\n",
            "Diff =   0.0173074956539524\n",
            "--------------------------------\n",
            "Accuracy of train i =  5  j =  9 = 0.7223386849371102\n",
            "Accuracy of test Model C:  0.6952653645567032\n",
            "Diff =   0.027073320380406996\n",
            "--------------------------------\n",
            "Accuracy of train i =  5  j =  10 = 0.7343797934349116\n",
            "Accuracy of test Model C:  0.6888229880355865\n",
            "Diff =   0.04555680539932505\n",
            "--------------------------------\n",
            "Accuracy of train i =  6  j =  1 = 0.6454903364352184\n",
            "Accuracy of test Model C:  0.6429082728295327\n",
            "Diff =   0.0025820636056856916\n",
            "--------------------------------\n",
            "Accuracy of train i =  6  j =  2 = 0.6596277738010021\n",
            "Accuracy of test Model C:  0.6573269250434605\n",
            "Diff =   0.0023008487575416625\n",
            "--------------------------------\n",
            "Accuracy of train i =  6  j =  3 = 0.6698026383065753\n",
            "Accuracy of test Model C:  0.6721546170365068\n",
            "Diff =   -0.0023519787299315364\n",
            "--------------------------------\n",
            "Accuracy of train i =  6  j =  4 = 0.6861386644851212\n",
            "Accuracy of test Model C:  0.6816647919010124\n",
            "Diff =   0.004473872584108807\n",
            "--------------------------------\n",
            "Accuracy of train i =  6  j =  5 = 0.6885162082012476\n",
            "Accuracy of test Model C:  0.6823806115144698\n",
            "Diff =   0.006135596686777767\n",
            "--------------------------------\n",
            "Accuracy of train i =  6  j =  6 = 0.6941660701503222\n",
            "Accuracy of test Model C:  0.6861642294713161\n",
            "Diff =   0.008001840679006111\n",
            "--------------------------------\n",
            "Accuracy of train i =  6  j =  7 = 0.7016310461192351\n",
            "Accuracy of test Model C:  0.6913794866550772\n",
            "Diff =   0.0102515594641579\n",
            "--------------------------------\n",
            "Accuracy of train i =  6  j =  8 = 0.7095817568258513\n",
            "Accuracy of test Model C:  0.6924020861028735\n",
            "Diff =   0.01717967072297788\n",
            "--------------------------------\n",
            "Accuracy of train i =  6  j =  9 = 0.721546170365068\n",
            "Accuracy of test Model C:  0.6954698844462625\n",
            "Diff =   0.02607628591880551\n",
            "--------------------------------\n",
            "Accuracy of train i =  6  j =  10 = 0.7336895388076491\n",
            "Accuracy of test Model C:  0.6893342877594846\n",
            "Diff =   0.04435525104816451\n",
            "--------------------------------\n",
            "Accuracy of train i =  7  j =  1 = 0.6454903364352184\n",
            "Accuracy of test Model C:  0.6429082728295327\n",
            "Diff =   0.0025820636056856916\n",
            "--------------------------------\n",
            "Accuracy of train i =  7  j =  2 = 0.6596277738010021\n",
            "Accuracy of test Model C:  0.6573269250434605\n",
            "Diff =   0.0023008487575416625\n",
            "--------------------------------\n",
            "Accuracy of train i =  7  j =  3 = 0.6698026383065753\n",
            "Accuracy of test Model C:  0.6721546170365068\n",
            "Diff =   -0.0023519787299315364\n",
            "--------------------------------\n",
            "Accuracy of train i =  7  j =  4 = 0.6861386644851212\n",
            "Accuracy of test Model C:  0.6816647919010124\n",
            "Diff =   0.004473872584108807\n",
            "--------------------------------\n",
            "Accuracy of train i =  7  j =  5 = 0.6885162082012476\n",
            "Accuracy of test Model C:  0.6823806115144698\n",
            "Diff =   0.006135596686777767\n",
            "--------------------------------\n",
            "Accuracy of train i =  7  j =  6 = 0.6940893751917374\n",
            "Accuracy of test Model C:  0.6861642294713161\n",
            "Diff =   0.007925145720421356\n",
            "--------------------------------\n",
            "Accuracy of train i =  7  j =  7 = 0.7015287861744555\n",
            "Accuracy of test Model C:  0.6912772267102976\n",
            "Diff =   0.0102515594641579\n",
            "--------------------------------\n",
            "Accuracy of train i =  7  j =  8 = 0.7094283669086818\n",
            "Accuracy of test Model C:  0.6920953062685347\n",
            "Diff =   0.01733306064014717\n",
            "--------------------------------\n",
            "Accuracy of train i =  7  j =  9 = 0.7210860006135597\n",
            "Accuracy of test Model C:  0.6953676245014828\n",
            "Diff =   0.025718376112076835\n",
            "--------------------------------\n",
            "Accuracy of train i =  7  j =  10 = 0.7324112894979037\n",
            "Accuracy of test Model C:  0.6906636670416197\n",
            "Diff =   0.04174762245628394\n",
            "--------------------------------\n",
            "Accuracy of train i =  8  j =  1 = 0.6454903364352184\n",
            "Accuracy of test Model C:  0.6429082728295327\n",
            "Diff =   0.0025820636056856916\n",
            "--------------------------------\n",
            "Accuracy of train i =  8  j =  2 = 0.6596277738010021\n",
            "Accuracy of test Model C:  0.6573269250434605\n",
            "Diff =   0.0023008487575416625\n",
            "--------------------------------\n",
            "Accuracy of train i =  8  j =  3 = 0.6698026383065753\n",
            "Accuracy of test Model C:  0.6721546170365068\n",
            "Diff =   -0.0023519787299315364\n",
            "--------------------------------\n",
            "Accuracy of train i =  8  j =  4 = 0.6861386644851212\n",
            "Accuracy of test Model C:  0.6816647919010124\n",
            "Diff =   0.004473872584108807\n",
            "--------------------------------\n",
            "Accuracy of train i =  8  j =  5 = 0.6885162082012476\n",
            "Accuracy of test Model C:  0.6823806115144698\n",
            "Diff =   0.006135596686777767\n",
            "--------------------------------\n",
            "Accuracy of train i =  8  j =  6 = 0.6940638102055425\n",
            "Accuracy of test Model C:  0.686471009305655\n",
            "Diff =   0.007592800899887564\n",
            "--------------------------------\n",
            "Accuracy of train i =  8  j =  7 = 0.70165661110543\n",
            "Accuracy of test Model C:  0.6915840065446365\n",
            "Diff =   0.010072604560793508\n",
            "--------------------------------\n",
            "Accuracy of train i =  8  j =  8 = 0.7093772369362921\n",
            "Accuracy of test Model C:  0.6916862664894161\n",
            "Diff =   0.017690970446875953\n",
            "--------------------------------\n",
            "Accuracy of train i =  8  j =  9 = 0.7209326106963903\n",
            "Accuracy of test Model C:  0.6945495449432457\n",
            "Diff =   0.02638306575314453\n",
            "--------------------------------\n",
            "Accuracy of train i =  8  j =  10 = 0.7317977298292259\n",
            "Accuracy of test Model C:  0.6906636670416197\n",
            "Diff =   0.04113406278760612\n",
            "--------------------------------\n",
            "Accuracy of train i =  9  j =  1 = 0.6454903364352184\n",
            "Accuracy of test Model C:  0.6429082728295327\n",
            "Diff =   0.0025820636056856916\n",
            "--------------------------------\n",
            "Accuracy of train i =  9  j =  2 = 0.6596277738010021\n",
            "Accuracy of test Model C:  0.6573269250434605\n",
            "Diff =   0.0023008487575416625\n",
            "--------------------------------\n",
            "Accuracy of train i =  9  j =  3 = 0.6698026383065753\n",
            "Accuracy of test Model C:  0.6721546170365068\n",
            "Diff =   -0.0023519787299315364\n",
            "--------------------------------\n",
            "Accuracy of train i =  9  j =  4 = 0.6861386644851212\n",
            "Accuracy of test Model C:  0.6816647919010124\n",
            "Diff =   0.004473872584108807\n",
            "--------------------------------\n",
            "Accuracy of train i =  9  j =  5 = 0.6885162082012476\n",
            "Accuracy of test Model C:  0.6823806115144698\n",
            "Diff =   0.006135596686777767\n",
            "--------------------------------\n",
            "Accuracy of train i =  9  j =  6 = 0.6940382452193475\n",
            "Accuracy of test Model C:  0.686471009305655\n",
            "Diff =   0.0075672359136925715\n",
            "--------------------------------\n",
            "Accuracy of train i =  9  j =  7 = 0.7016054811330402\n",
            "Accuracy of test Model C:  0.6915840065446365\n",
            "Diff =   0.010021474588403745\n",
            "--------------------------------\n",
            "Accuracy of train i =  9  j =  8 = 0.709402801922487\n",
            "Accuracy of test Model C:  0.6917885264341957\n",
            "Diff =   0.017614275488291198\n",
            "--------------------------------\n",
            "Accuracy of train i =  9  j =  9 = 0.720728090806831\n",
            "Accuracy of test Model C:  0.6950608446671439\n",
            "Diff =   0.025667246139687072\n",
            "--------------------------------\n",
            "Accuracy of train i =  9  j =  10 = 0.7318744247878106\n",
            "Accuracy of test Model C:  0.6934246855506698\n",
            "Diff =   0.03844973923714079\n",
            "--------------------------------\n",
            "Accuracy of train i =  10  j =  1 = 0.6454903364352184\n",
            "Accuracy of test Model C:  0.6429082728295327\n",
            "Diff =   0.0025820636056856916\n",
            "--------------------------------\n",
            "Accuracy of train i =  10  j =  2 = 0.6596277738010021\n",
            "Accuracy of test Model C:  0.6573269250434605\n",
            "Diff =   0.0023008487575416625\n",
            "--------------------------------\n",
            "Accuracy of train i =  10  j =  3 = 0.6698026383065753\n",
            "Accuracy of test Model C:  0.6721546170365068\n",
            "Diff =   -0.0023519787299315364\n",
            "--------------------------------\n",
            "Accuracy of train i =  10  j =  4 = 0.6861386644851212\n",
            "Accuracy of test Model C:  0.6816647919010124\n",
            "Diff =   0.004473872584108807\n",
            "--------------------------------\n",
            "Accuracy of train i =  10  j =  5 = 0.6884906432150527\n",
            "Accuracy of test Model C:  0.6822783515696902\n",
            "Diff =   0.006212291645362522\n",
            "--------------------------------\n",
            "Accuracy of train i =  10  j =  6 = 0.6939871152469578\n",
            "Accuracy of test Model C:  0.6862664894160957\n",
            "Diff =   0.007720625830862082\n",
            "--------------------------------\n",
            "Accuracy of train i =  10  j =  7 = 0.7015287861744555\n",
            "Accuracy of test Model C:  0.6912772267102976\n",
            "Diff =   0.0102515594641579\n",
            "--------------------------------\n",
            "Accuracy of train i =  10  j =  8 = 0.7093005419777073\n",
            "Accuracy of test Model C:  0.6915840065446365\n",
            "Diff =   0.017716535433070835\n",
            "--------------------------------\n",
            "Accuracy of train i =  10  j =  9 = 0.7201912260967379\n",
            "Accuracy of test Model C:  0.6940382452193475\n",
            "Diff =   0.026152980877390375\n",
            "--------------------------------\n",
            "Accuracy of train i =  10  j =  10 = 0.7313886900501074\n",
            "Accuracy of test Model C:  0.6924020861028735\n",
            "Diff =   0.038986603947233966\n",
            "--------------------------------\n",
            "The highest train =  0.7391604458533593\n",
            "The highest test =  0.6954698844462625\n",
            "The least diff, leaf = 1  depth = 3\n"
          ],
          "name": "stdout"
        }
      ]
    },
    {
      "cell_type": "markdown",
      "metadata": {
        "id": "rnEgG4BKGdAF"
      },
      "source": [
        "After comparing all of these values and their differences, we choose the following values:\n",
        "\n",
        "**min_sample_leaf value is 5**\n",
        "\n",
        "**min_sample_leaf value is 7**\n",
        "\n",
        "The reason for picking these values is that by these hyperparameter settings we obtain a **considerably high test accuracy value and the minimum difference** both, the same values can also be achieved by the values i= 1 and j=3."
      ]
    },
    {
      "cell_type": "code",
      "metadata": {
        "id": "3EjETRa5fVZC",
        "outputId": "7d527adf-1ac6-4edc-a828-05bbe39b185c",
        "colab": {
          "base_uri": "https://localhost:8080/",
          "height": 51
        }
      },
      "source": [
        "model_dt_Pc_better = tree.DecisionTreeClassifier(min_samples_leaf = 5, max_depth = 7) #Create decision tree classifier object\n",
        "model_dt_Pc_better.fit(x_train, y_train)\n",
        "from sklearn.model_selection import cross_val_score\n",
        "from sklearn.metrics import accuracy_score\n",
        "\n",
        "X_train = pd.DataFrame(x_train)\n",
        "X_test = pd.DataFrame(x_test) \n",
        "y_train = pd.DataFrame(y_train) \n",
        "y_test = pd.DataFrame(y_test)\n",
        "\n",
        "\n",
        "train_pred_1_b = model_dt_Pc_better.predict(X_train)\n",
        "train_acc_1_b = accuracy_score(y_train, train_pred_1_b)\n",
        "print(\"Accuracy of train Model C: \" ,train_acc_1_b)\n",
        "\n",
        "test_pred_1_b = model_dt_Pc_better.predict(X_test)\n",
        "test_acc_1_b = accuracy_score(y_test, test_pred_1_b)\n",
        "print(\"Accuracy of test Model C: \",test_acc_1_b)\n"
      ],
      "execution_count": null,
      "outputs": [
        {
          "output_type": "stream",
          "text": [
            "Accuracy of train Model C:  0.7017333060640147\n",
            "Accuracy of test Model C:  0.6912772267102976\n"
          ],
          "name": "stdout"
        }
      ]
    },
    {
      "cell_type": "markdown",
      "metadata": {
        "id": "iLqej0x2dGdm"
      },
      "source": [
        "|min_sample_leaf | max_depth| Acc of Train | Acc of Test|\n",
        "|---|---|---|---|\n",
        "|<font color = 'red'>5</font>|<font color = 'red'>7</font>|<font color = 'red'>0.7017</font>|<font color = 'red'>0.6913</font>| \n"
      ]
    },
    {
      "cell_type": "markdown",
      "metadata": {
        "id": "iO4mfkLLdwJ7"
      },
      "source": [
        "The graph below indicates the improvement of model B to model C with the most suitable hyperparameters:"
      ]
    },
    {
      "cell_type": "code",
      "metadata": {
        "id": "dS7w18RIjAMl",
        "outputId": "2eb6710c-ffcb-4a96-e80f-9d458ac8733b",
        "colab": {
          "base_uri": "https://localhost:8080/",
          "height": 289
        }
      },
      "source": [
        "import numpy as np\n",
        "import matplotlib.pyplot as plt\n",
        "train = (train_acc_1_b,train_acc_1)\n",
        "test = (test_acc_1_b,test_acc_1)\n",
        "\n",
        "n_groups = 2\n",
        "\n",
        "\n",
        "fig, ax = plt.subplots()\n",
        "index = np.arange(n_groups)\n",
        "bar_width = 0.3\n",
        "opacity = 0.85\n",
        "\n",
        "r = plt.barh(index,train, bar_width,\n",
        "alpha=opacity,\n",
        "color='pink',\n",
        "label='train')\n",
        "\n",
        "r2 = plt.barh(index + bar_width, test, bar_width,\n",
        "alpha=opacity,\n",
        "color='black',\n",
        "label='test')\n",
        "plt.grid()\n",
        "\n",
        "plt.xlabel('accuracy')\n",
        "plt.ylabel('models')\n",
        "\n",
        "plt.yticks(index + bar_width, ('Model with C','Model B' ))\n",
        "plt.legend()\n",
        "\n",
        "plt.show()"
      ],
      "execution_count": null,
      "outputs": [
        {
          "output_type": "display_data",
          "data": {
            "image/png": "[encoded data removed]",
            "text/plain": [
              "<Figure size 432x288 with 1 Axes>"
            ]
          },
          "metadata": {
            "tags": []
          }
        }
      ]
    },
    {
      "cell_type": "markdown",
      "metadata": {
        "id": "9FekddzJGmrL"
      },
      "source": [
        "| | Model B | Model C |\n",
        "|---|---|---|\n",
        "|Train| 1.0| 0.7017 |\n",
        "|Test| 0.63| 0.6913|"
      ]
    },
    {
      "cell_type": "markdown",
      "metadata": {
        "id": "UP3XK65Mv9ou"
      },
      "source": [
        "The difference between train and test values of model C have decreased and this corrects over-fitting."
      ]
    },
    {
      "cell_type": "markdown",
      "metadata": {
        "id": "YlWpwpucluTd"
      },
      "source": [
        "**Cross-validation** is an important technique in machine learning. It provides a better assessment of the model quality on new data compared to the hold-out set approach. However, cross-validation is computationally expensive when you have a lot of data.\n",
        "\n",
        "Hence, we are appplying cross-validation on our model B and model C to further explore the difference and performance between the two."
      ]
    },
    {
      "cell_type": "code",
      "metadata": {
        "id": "KrTT2lbWlqx9",
        "outputId": "5e47af9c-fcee-44a0-df32-8d3c2db9a18a",
        "colab": {
          "base_uri": "https://localhost:8080/",
          "height": 51
        }
      },
      "source": [
        "model_Check= tree.DecisionTreeClassifier()\n",
        "model_Check2 = tree.DecisionTreeClassifier(min_samples_leaf = 5, max_depth = 7)\n",
        "\n",
        "acc_c = cross_val_score(model_Check,x,y, cv = 20)\n",
        "print(\"Cross Validation Score of Model B: %0.2f (+/- %0.2f)\" % (acc_c.mean(), acc_c.std() * 2))\n",
        "\n",
        "acc2c = cross_val_score(model_Check2,x,y, cv = 20)\n",
        "print(\"Cross Validation Score of Model C: %0.2f (+/- %0.2f)\" % (acc2c.mean(), acc2c.std() * 2))"
      ],
      "execution_count": null,
      "outputs": [
        {
          "output_type": "stream",
          "text": [
            "Cross Validation Score of Model B: 0.52 (+/- 0.13)\n",
            "Cross Validation Score of Model C: 0.67 (+/- 0.10)\n"
          ],
          "name": "stdout"
        }
      ]
    },
    {
      "cell_type": "markdown",
      "metadata": {
        "id": "nJ7yiHSGmhs7"
      },
      "source": [
        "###K-Nearest Neighbour"
      ]
    },
    {
      "cell_type": "markdown",
      "metadata": {
        "id": "7w7obkWqzv0a"
      },
      "source": [
        "Another simple, yet a powerful machine learning algorithm is **kNN**. It's a supervised algorithm and can be used in both classification and regression. \n",
        "\n",
        "We have used KNN-based classifier because we categorzied the `price` column and the data obtained is represented by `Price Category Number` which has discrete data.\n",
        "The **KNN-based classifier** does not build any classification model but directly learns from the training instances. It starts processing data only after it is given a test observation to classify. Thus, KNN comes under the category of **\"Lazy Learner\"** approaches.\n",
        "\n",
        "\n"
      ]
    },
    {
      "cell_type": "markdown",
      "metadata": {
        "id": "bo8rVmYP2wbq"
      },
      "source": [
        "\n",
        "Hyperparameter tuning is done in the following code to decide which k value gives the optimal result for each of the three KNN models used."
      ]
    },
    {
      "cell_type": "code",
      "metadata": {
        "id": "KERWrhlQuUUh",
        "outputId": "37d68c4e-d124-4bfc-a05f-c178ee491d4d",
        "colab": {
          "base_uri": "https://localhost:8080/",
          "height": 321
        }
      },
      "source": [
        "\n",
        "\n",
        "from sklearn.preprocessing import StandardScaler\n",
        "from sklearn.metrics import accuracy_score\n",
        "from sklearn.neighbors import KNeighborsClassifier\n",
        "xknn = df_c.drop(\"Price Category Number\", axis = 1)\n",
        "yknn = df_c[\"Price Category Number\"]   #the thing we need to predict\n",
        "from sklearn.model_selection import train_test_split\n",
        "\n",
        "# 80% for training and 20% for testing-validation\n",
        "xk_train, xk_test, yk_train, yk_test = train_test_split(xknn, yknn, test_size=0.20, random_state=0)\n",
        "from sklearn.metrics import accuracy_score\n",
        "\n",
        "K_range = np.arange(1, 15)\n",
        "accuracy_list = []\n",
        "\n",
        "for k in K_range:\n",
        "  # create a new model with current K\n",
        "  knn1 = KNeighborsClassifier(k, metric=\"euclidean\")\n",
        "  # fit training data\n",
        "  knn1.fit(xk_train, yk_train)\n",
        "  # predict the validation data\n",
        "  y_pred = knn1.predict(xk_test)\n",
        "  # obtain the accuracy value\n",
        "  accuracy = accuracy_score(yk_test, y_pred)\n",
        "  accuracy_list.append(accuracy)\n",
        "\n",
        "K_range2 = np.arange(1, 15)\n",
        "accuracy_list2 = []\n",
        "\n",
        "for k2 in K_range2:\n",
        "  # create a new model with current K\n",
        "  knn2= KNeighborsClassifier(k2, metric=\"manhattan\")\n",
        "  # fit training data\n",
        "  knn2.fit(xk_train, yk_train)\n",
        "  # predict the validation data\n",
        "  y_pred = knn2.predict(xk_test)\n",
        "  # obtain the accuracy value\n",
        "  accuracy2 = accuracy_score(yk_test, y_pred)\n",
        "  accuracy_list2.append(accuracy2)\n",
        "\n",
        "K_range3 = np.arange(1, 15)\n",
        "accuracy_list3 = []\n",
        "\n",
        "for k3 in K_range3:\n",
        "  # create a new model with current K\n",
        "  knn3= KNeighborsClassifier(k3, metric=\"chebyshev\")\n",
        "  # fit training data\n",
        "  knn3.fit(xk_train, yk_train)\n",
        "  # predict the validation data\n",
        "  y_pred = knn3.predict(xk_test)\n",
        "  # obtain the accuracy value\n",
        "  accuracy3 = accuracy_score(yk_test, y_pred)\n",
        "  accuracy_list3.append(accuracy3)\n",
        "\n",
        "\n",
        "fig, ax = plt.subplots(1,3, figsize=(15,5))\n",
        "\n",
        "ax[0].plot(K_range, accuracy_list, color='black', linestyle='dashed', marker='o',  \n",
        "         markerfacecolor='red', markersize=10, )\n",
        "ax[1].plot(K_range, accuracy_list2, color='black', linestyle='dashed', marker='o',  \n",
        "         markerfacecolor='red', markersize=10)\n",
        "ax[2].plot(K_range, accuracy_list3, color='black', linestyle='dashed', marker='o',  \n",
        "         markerfacecolor='red', markersize=10)\n",
        "ax[0].grid()\n",
        "ax[1].grid()\n",
        "ax[2].grid()\n",
        "\n",
        "ax[0].set_title(\"Euclidean\")\n",
        "ax[1].set_title(\"Manhattan\")\n",
        "ax[2].set_title(\"Chebyshev\")\n",
        "\n",
        "plt.tight_layout()\n",
        "plt.show()\n",
        "\n",
        "\n",
        "\n"
      ],
      "execution_count": null,
      "outputs": [
        {
          "output_type": "display_data",
          "data": {
            "image/png": "[encoded data removed]",
            "text/plain": [
              "<Figure size 1080x360 with 3 Axes>"
            ]
          },
          "metadata": {
            "tags": []
          }
        }
      ]
    },
    {
      "cell_type": "markdown",
      "metadata": {
        "id": "gnuucsFalmDQ"
      },
      "source": [
        "For each of the Euclidean and Chebyshev models, the highest accuracy value is achieved when the k-value is 5. While the second highest accuracy value of Manhattan model is achieved at 5. Hence we decided to use **k = 5**."
      ]
    },
    {
      "cell_type": "code",
      "metadata": {
        "id": "1wOTzRbKrNU9",
        "outputId": "0629ee33-5e70-4119-a24c-5f396d48882e",
        "colab": {
          "base_uri": "https://localhost:8080/",
          "height": 68
        }
      },
      "source": [
        "\n",
        "from sklearn.metrics import accuracy_score\n",
        "from sklearn.neighbors import KNeighborsClassifier \n",
        "# create a new model with current K\n",
        "knn_1 = KNeighborsClassifier(5, metric=\"euclidean\")\n",
        "# fit training data\n",
        "knn_1.fit(xk_train, yk_train)\n",
        "# predict the validation data\n",
        "yk_pred = knn_1.predict(xk_test)\n",
        "# obtain the accuracy value\n",
        "score_euc = f\"{accuracy_score(yk_test, yk_pred):.3f}\"\n",
        "\n",
        "\n",
        "# create a new model with current K\n",
        "knn_2 = KNeighborsClassifier(5, metric=\"manhattan\")\n",
        "# fit training data\n",
        "knn_2.fit(xk_train, yk_train)\n",
        "# predict the validation data\n",
        "yk_pred = knn_2.predict(xk_test)\n",
        "# obtain the accuracy value\n",
        "score_man = f\"{accuracy_score(yk_test, yk_pred):.3f}\"\n",
        "\n",
        "# create a new model with current K\n",
        "knn_3 = KNeighborsClassifier(5, metric=\"chebyshev\")\n",
        "# fit training data\n",
        "knn_3.fit(xk_train, yk_train)\n",
        "# predict the validation data\n",
        "yk_pred = knn_3.predict(xk_test)\n",
        "# obtain the accuracy value\n",
        "score_cheb = f\"{accuracy_score(yk_test, yk_pred):.3f}\"\n",
        "\n",
        "print(\"Euclidean Accuracy : \", score_euc)\n",
        "\n",
        "print(\"Manhattan Accuracy : \", score_man)\n",
        "\n",
        "print(\"Chebyshev Accuracy : \", score_cheb)\n"
      ],
      "execution_count": null,
      "outputs": [
        {
          "output_type": "stream",
          "text": [
            "Euclidean Accuracy :  0.536\n",
            "Manhattan Accuracy :  0.537\n",
            "Chebyshev Accuracy :  0.536\n"
          ],
          "name": "stdout"
        }
      ]
    },
    {
      "cell_type": "markdown",
      "metadata": {
        "id": "R2EOsTnqn-sK"
      },
      "source": [
        "Now we perform Standardization of our data to obtain more accurate results."
      ]
    },
    {
      "cell_type": "code",
      "metadata": {
        "id": "7MRZMJJ-O1mi",
        "outputId": "6fb133fb-8f16-41e8-e88b-04422f2894c0",
        "colab": {
          "base_uri": "https://localhost:8080/",
          "height": 68
        }
      },
      "source": [
        "from sklearn.preprocessing import StandardScaler\n",
        "scaler = StandardScaler()\n",
        "scaler.fit(df_c)\n",
        "fitt = scaler.transform(df_c)\n",
        "\n",
        "fit_col = df_c[\"Price Category Number\"]\n",
        "fitt = np.delete(fitt, 9, axis=1)\n",
        "\n",
        "X_train, X_test, y_train, y_test = train_test_split(fitt, yknn, test_size=0.20, random_state=0)\n",
        "\n",
        "# create model for Euclidean\n",
        "knn = KNeighborsClassifier(5, metric=\"euclidean\")\n",
        "# fit training data\n",
        "knn.fit(X_train, y_train)\n",
        "# predict the validation data\n",
        "y_pred = knn.predict(X_test)\n",
        "# obtain the accuracy value\n",
        "acc_euc_std = f\"{accuracy_score(y_test, y_pred):.3f}\"\n",
        "\n",
        "# create model for Manhattan\n",
        "knn = KNeighborsClassifier(5, metric=\"cityblock\")\n",
        "# fit training data\n",
        "knn.fit(X_train, y_train)\n",
        "# predict the validation data\n",
        "y_pred = knn.predict(X_test)\n",
        "# obtain the accuracy value\n",
        "acc_man_std = f\"{accuracy_score(y_test, y_pred):.3f}\"\n",
        "\n",
        "# create model for Chebyshev\n",
        "knn = KNeighborsClassifier(5, metric=\"chebyshev\")\n",
        "# fit training data\n",
        "knn.fit(X_train, y_train)\n",
        "# predict the validation data\n",
        "y_pred = knn.predict(X_test)\n",
        "# obtain the accuracy value\n",
        "acc_cheb_std = f\"{accuracy_score(y_test, y_pred):.3f}\"\n",
        "\n",
        "print(\"The Euclidean Accuracy = \", acc_euc_std)\n",
        "\n",
        "print(\"The Manhattan Accuracy = \", acc_man_std)\n",
        "\n",
        "print(\"The Chebyshev Accuracy = \", acc_cheb_std)"
      ],
      "execution_count": null,
      "outputs": [
        {
          "output_type": "stream",
          "text": [
            "The Euclidean Accuracy =  0.662\n",
            "The Manhattan Accuracy =  0.672\n",
            "The Chebyshev Accuracy =  0.653\n"
          ],
          "name": "stdout"
        }
      ]
    },
    {
      "cell_type": "markdown",
      "metadata": {
        "id": "tyi3VGI5puPr"
      },
      "source": [
        "<table>\n",
        "  <thead>\n",
        "    <tr>\n",
        "      <th>Distance Function</th>\n",
        "      <th>Raw Features</th>\n",
        "      <th>Standardized Features</th>\n",
        "    </tr>\n",
        "  </thead>\n",
        "  <tbody>\n",
        "    <tr>\n",
        "      <td>Chebyshev</td>\n",
        "      <td>0.536</td>\n",
        "      <td>0.653</td>\n",
        "    </tr>\n",
        "    <tr>\n",
        "      <td>Euclidean</td>\n",
        "      <td>0.536</td>\n",
        "      <td>0.662</td>\n",
        "    </tr>\n",
        "    <tr>\n",
        "      <td>Manhattan</td>\n",
        "      <td>0.537</td>\n",
        "      <td>0.672</td>\n",
        "    </tr>\n",
        "  </tbody>\n",
        "</table>"
      ]
    },
    {
      "cell_type": "markdown",
      "metadata": {
        "id": "Z6iDzlkf2xqg"
      },
      "source": [
        "|  |MODEL A (DECSION TREE)|MODEL B (DECISION TREE)|MODEL C (DECISION TREE)|\n",
        "|---|---|---|---|\n",
        "|TRAIN|1|1|0.70|\n",
        "|TEST |1|0.63|0.69|"
      ]
    },
    {
      "cell_type": "markdown",
      "metadata": {
        "id": "OphaqCd3tYwP"
      },
      "source": [
        "##Analysis"
      ]
    },
    {
      "cell_type": "markdown",
      "metadata": {
        "id": "LhpeU4w9qR__"
      },
      "source": [
        "\n",
        "\n",
        "As seen in the tables above, we implemented 3 distance functions (Euclidean, Chebyshev, Manhattan) in our kNN algorithm. After which we used standardization to achieve better values overall. The highest Accuracy scored we obtained was with k = 5 using the \"Manhattan\" distance function which us Accuracy value of 0.672.\n",
        "\n",
        "But our Decision Tree Classifier Model C performed relatively better considering all the others. We used min_sample_leaf value = 5 and max_depth = 7, after which we obtained an accuracy value on train data to be 0.7017 and an accuracy value on test data is 0.6913.\n",
        "Moreover after using cross-validation on model C we obtained the value\n",
        "was 0.67 (+/- 0.10). \n",
        "\n",
        "The cross-validation score of model C and the accuracy score of the function Manhattan from the KNN models have approxametly the same the same results.\n",
        "\n",
        "\n",
        "\n",
        "\n",
        "\n",
        "\n",
        "\n",
        "\n"
      ]
    },
    {
      "cell_type": "markdown",
      "metadata": {
        "id": "ijSJE2FYtNTK"
      },
      "source": [
        "##Comparison"
      ]
    },
    {
      "cell_type": "markdown",
      "metadata": {
        "id": "iLEY6bslWpLC"
      },
      "source": [
        "Using either of the models have both pros and cons. But we would prefer using the Decision Tree model C for the reaons discussed as follows.\n",
        "\n",
        "**ADVANTAGES OF A DECISION TREE MODEL OVER KNN :**\n",
        "\n",
        "* Decision Trees have a high interpretability of the model because it can work with clear human-understandable classification rules.\n",
        "* KNN performs on-the-spot learning, it requires frequent database lookups, hence, can be computationally expensive ,while Decision Tree Classifiers do not require such lookups as it has in-memory classification model ready.\n",
        "* KNN is considered fast in comparison with compositions of algorithms, but the number of neighbors used for classification is usually large in real life applications , in which case the algorithm will not operate as fast as a decision tree.\n",
        "\n",
        "**DISADVANTAGE OF DECISION TREES COMPARED TO  k-Nearest Neighbours :**\n",
        "\n",
        "* A well-tuned K can model complex decision spaces having arbitrarily complicated decision boundaries because it is an instance based learner, which are not easily modeled by other \"eager\" learners like Decision Trees.\n",
        ".\n",
        "\n",
        "\n"
      ]
    },
    {
      "cell_type": "markdown",
      "metadata": {
        "id": "jjYc4JMVJ0Ys"
      },
      "source": [
        "##Conclusion"
      ]
    },
    {
      "cell_type": "markdown",
      "metadata": {
        "id": "rw47PjigDwhB"
      },
      "source": [
        "\n",
        "According, to our evaluation Model C of the Decision Tree out performs all other models.\n",
        "In our features we have included the `Accessibilty to Landmarks Numbers` column, among other data, which we compared to the `Price Category Numbers`, for Machine Learning Models. The ability of the two classification models to identify new data in terms of the above mentioned columns renders the  **solution applicable**.\n",
        "\n",
        "However, some of the limitations in model C might be the hyperparameter tuning.The process for hyperparameter tuning as demonstarted above was time-consuming and might not yield the best possible accuracies results."
      ]
    },
    {
      "cell_type": "markdown",
      "metadata": {
        "id": "Iv5lJ7B3sSN1"
      },
      "source": [
        "Finally as we have obtained an applicable solution, we must be very careful while using it because <font color = 'red'>**WITH GREAT POWER COMES GREAT RESPONSIBILTY**</font>"
      ]
    }
  ]
}